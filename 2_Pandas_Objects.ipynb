{
 "cells": [
  {
   "cell_type": "markdown",
   "id": "b5a03d76-631c-47a3-a4bb-15d27960c548",
   "metadata": {},
   "source": [
    "## Series"
   ]
  },
  {
   "cell_type": "markdown",
   "id": "d7463a87-4db4-4b4a-b94a-3801ee07a472",
   "metadata": {},
   "source": [
    "A Series is a one-dimensional labeled array-like object. Think of it like a single column in a spreadsheet or a single variable in a dataset. It holds a sequence of values (of any data type) along with an associated index."
   ]
  },
  {
   "cell_type": "markdown",
   "id": "d74b590f-ede5-41a3-801f-1d7cb248dd8b",
   "metadata": {},
   "source": [
    "**Creating a Pandas Series**"
   ]
  },
  {
   "cell_type": "markdown",
   "id": "d7d4d4e8-56d9-433b-9daa-2d03d7fdf6bd",
   "metadata": {},
   "source": [
    "A Series is like a list or an array, but with labels (index) for each element.\n",
    "\n"
   ]
  },
  {
   "cell_type": "code",
   "execution_count": 7,
   "id": "514a729f-180c-40f5-b90d-a68497720bf9",
   "metadata": {},
   "outputs": [
    {
     "name": "stdout",
     "output_type": "stream",
     "text": [
      "0    0.25\n",
      "1    0.50\n",
      "2    0.75\n",
      "3    1.00\n",
      "dtype: float64\n"
     ]
    }
   ],
   "source": [
    "import pandas as pd\n",
    "data = pd.Series([0.25, 0.5, 0.75, 1.0])\n",
    "print(data)"
   ]
  },
  {
   "cell_type": "markdown",
   "id": "d8fb9d8a-35e7-4422-b39f-c5ca8541a9b8",
   "metadata": {},
   "source": [
    "\n",
    "This creates a Series with default integer indices."
   ]
  },
  {
   "cell_type": "markdown",
   "id": "85539c7b-0806-41f3-b800-81c81f52f85c",
   "metadata": {},
   "source": [
    "**Series with Custom Index:**\n",
    "\n",
    "We can create a Series with custom indices.\n"
   ]
  },
  {
   "cell_type": "code",
   "execution_count": 13,
   "id": "a5cfda83-6878-4508-8bee-56e193e6bbbe",
   "metadata": {},
   "outputs": [
    {
     "name": "stdout",
     "output_type": "stream",
     "text": [
      "a    0.25\n",
      "b    0.50\n",
      "c    0.75\n",
      "d    1.00\n",
      "dtype: float64\n"
     ]
    }
   ],
   "source": [
    "data = pd.Series([0.25, 0.5, 0.75, 1.0], index=['a', 'b', 'c', 'd'])\n",
    "print(data)"
   ]
  },
  {
   "cell_type": "markdown",
   "id": "2d713e22-6a25-4ff1-b967-65b46778db6e",
   "metadata": {},
   "source": [
    "**Series as a Dictionary:**\n",
    "\n",
    "A Series can be created from a dictionary, where keys become the index.\n"
   ]
  },
  {
   "cell_type": "code",
   "execution_count": 17,
   "id": "e9c19b5e-d4d3-4cfc-bd25-642398049dd1",
   "metadata": {},
   "outputs": [
    {
     "name": "stdout",
     "output_type": "stream",
     "text": [
      "California    38332521\n",
      "Texas         26448193\n",
      "New York      19651127\n",
      "dtype: int64\n"
     ]
    }
   ],
   "source": [
    "population_dict = {'California': 38332521, 'Texas': 26448193, 'New York': 19651127}\n",
    "population = pd.Series(population_dict)\n",
    "print(population)"
   ]
  },
  {
   "cell_type": "markdown",
   "id": "a0b75040-3693-47f0-82aa-dfa2a14fbfe5",
   "metadata": {},
   "source": [
    "## Pandas DataFrame\n",
    "\n",
    "**Creating a DataFrame**\n",
    "\n",
    "A DataFrame is like a table or a spreadsheet in Python. It can be created from a dictionary of lists.\n",
    "\n"
   ]
  },
  {
   "cell_type": "code",
   "execution_count": 20,
   "id": "d89901ea-8164-40ab-835d-c59fd2a69d87",
   "metadata": {},
   "outputs": [
    {
     "name": "stdout",
     "output_type": "stream",
     "text": [
      "        state  population\n",
      "0  California    38332521\n",
      "1       Texas    26448193\n",
      "2    New York    19651127\n"
     ]
    }
   ],
   "source": [
    "data = {'state': ['California', 'Texas', 'New York'], 'population': [38332521, 26448193, 19651127]}\n",
    "df = pd.DataFrame(data)\n",
    "print(df)\n"
   ]
  },
  {
   "cell_type": "markdown",
   "id": "5553fe42-e7e1-461f-8319-50ea8aa167a1",
   "metadata": {},
   "source": [
    "**DataFrame from Series**\n",
    "\n",
    "A DataFrame can also be created from multiple Series.\n",
    "\n"
   ]
  },
  {
   "cell_type": "code",
   "execution_count": 23,
   "id": "277d1b6d-0665-43b2-a11a-4f328377ad53",
   "metadata": {},
   "outputs": [
    {
     "name": "stdout",
     "output_type": "stream",
     "text": [
      "            population    area\n",
      "California    38332521  423967\n",
      "Texas         26448193  695662\n",
      "New York      19651127  141297\n"
     ]
    }
   ],
   "source": [
    "population = pd.Series({'California': 38332521, 'Texas': 26448193, 'New York': 19651127})\n",
    "area = pd.Series({'California': 423967, 'Texas': 695662, 'New York': 141297})\n",
    "df = pd.DataFrame({'population': population, 'area': area})\n",
    "print(df)"
   ]
  },
  {
   "cell_type": "markdown",
   "id": "291eb30b-ec3b-4257-8258-76cff8c453a5",
   "metadata": {},
   "source": [
    "## DataFrame Operations\n",
    "\n",
    "**Adding Columns** \n",
    "\n",
    "You can add new columns to a DataFrame.\n",
    "\n"
   ]
  },
  {
   "cell_type": "code",
   "execution_count": 28,
   "id": "194d0677-5ba5-4710-9847-d35f9f3f07d7",
   "metadata": {},
   "outputs": [
    {
     "name": "stdout",
     "output_type": "stream",
     "text": [
      "            population    area     density\n",
      "California    38332521  423967   90.413926\n",
      "Texas         26448193  695662   38.018740\n",
      "New York      19651127  141297  139.076746\n"
     ]
    }
   ],
   "source": [
    "df['density'] = df['population'] / df['area']\n",
    "print(df)"
   ]
  },
  {
   "cell_type": "markdown",
   "id": "75f1efd9-b8b2-4864-b53e-f6b382bc5230",
   "metadata": {},
   "source": [
    "\n",
    "\n",
    "**Accessing Data**\n",
    "\n",
    "You can access rows and columns in a DataFrame using indices and labels.\n",
    "\n"
   ]
  },
  {
   "cell_type": "code",
   "execution_count": 33,
   "id": "8ab29d5d-d4a3-445a-9e1f-27c07df9972b",
   "metadata": {},
   "outputs": [
    {
     "name": "stdout",
     "output_type": "stream",
     "text": [
      "California    38332521\n",
      "Texas         26448193\n",
      "New York      19651127\n",
      "Name: population, dtype: int64\n",
      "population    3.833252e+07\n",
      "area          4.239670e+05\n",
      "density       9.041393e+01\n",
      "Name: California, dtype: float64\n"
     ]
    }
   ],
   "source": [
    "print(df['population'])  # Access a column\n",
    "print(df.loc['California'])  # Access a row\n"
   ]
  },
  {
   "cell_type": "markdown",
   "id": "db2190d5-76fa-46a8-8497-22352940cb04",
   "metadata": {},
   "source": [
    "## Pandas Index Object\n",
    "\n",
    "**Index**\n",
    "\n",
    "The Index object in Pandas holds the axis labels for Series and DataFrame.\n",
    "\n",
    "\n"
   ]
  },
  {
   "cell_type": "code",
   "execution_count": 37,
   "id": "833ede29-5c24-40de-b13b-db4d5c499d1c",
   "metadata": {},
   "outputs": [
    {
     "name": "stdout",
     "output_type": "stream",
     "text": [
      "Index([2, 3, 5, 7, 11], dtype='int64')\n"
     ]
    }
   ],
   "source": [
    "ind = pd.Index([2, 3, 5, 7, 11])\n",
    "print(ind)"
   ]
  },
  {
   "cell_type": "markdown",
   "id": "e4252b31-c587-4885-b12d-694a532a1f2e",
   "metadata": {},
   "source": [
    "**Set Operations** \n",
    "\n",
    "The Index object supports set operations like intersection, union, and difference.\n",
    "\n"
   ]
  },
  {
   "cell_type": "code",
   "execution_count": 65,
   "id": "c4db135b-6a00-4f81-ac32-926651c157db",
   "metadata": {},
   "outputs": [
    {
     "name": "stdout",
     "output_type": "stream",
     "text": [
      "Index([0, 3, 5, 7, 9], dtype='int64')\n",
      "Index([3, 3, 5, 7, 11], dtype='int64')\n"
     ]
    }
   ],
   "source": [
    "a = pd.Index([1,3,5,7,9])\n",
    "b = pd.Index([2,3,5,7,11])\n",
    "print(a&b) #Union\n",
    "print(a|b) #Intersection\n"
   ]
  },
  {
   "cell_type": "code",
   "execution_count": 67,
   "id": "9e8a9493-fc70-430e-bf1f-ef98e215a9aa",
   "metadata": {},
   "outputs": [],
   "source": [
    "import pandas as pd\n",
    "\n",
    "indA = pd.Index([1, 3, 5, 7, 9])\n",
    "indB = pd.Index([2, 3, 5, 7, 11])\n"
   ]
  },
  {
   "cell_type": "code",
   "execution_count": 69,
   "id": "8068b94e-230f-4208-9963-44fcacd433e3",
   "metadata": {},
   "outputs": [
    {
     "name": "stdout",
     "output_type": "stream",
     "text": [
      "Index([3, 0, 0, 0, 2], dtype='int64')\n"
     ]
    }
   ],
   "source": [
    "sym_diff = indA ^ indB\n",
    "print(sym_diff)\n"
   ]
  }
 ],
 "metadata": {
  "kernelspec": {
   "display_name": "Python 3 (ipykernel)",
   "language": "python",
   "name": "python3"
  },
  "language_info": {
   "codemirror_mode": {
    "name": "ipython",
    "version": 3
   },
   "file_extension": ".py",
   "mimetype": "text/x-python",
   "name": "python",
   "nbconvert_exporter": "python",
   "pygments_lexer": "ipython3",
   "version": "3.12.4"
  }
 },
 "nbformat": 4,
 "nbformat_minor": 5
}
