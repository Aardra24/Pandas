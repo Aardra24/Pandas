{
 "cells": [
  {
   "cell_type": "markdown",
   "id": "2bb51ef1-477c-424a-9f10-ecf68e62fe94",
   "metadata": {},
   "source": [
    "##  Introduction to Missing Data\n",
    "\n",
    "Handling missing data is crucial in data analysis. Pandas uses sentinels like None and NaN to represent missing data.\n"
   ]
  },
  {
   "cell_type": "markdown",
   "id": "a1577b48-92d5-4124-be81-8d0cb78c7830",
   "metadata": {},
   "source": [
    "## None\n",
    "\n",
    "None is a Python object often used to represent missing data. However, it requires the array to have an object data type, leading to slower operations."
   ]
  },
  {
   "cell_type": "code",
   "execution_count": 7,
   "id": "ec5888ef-e8a2-4ebb-b1a1-7f51cfc5ec8b",
   "metadata": {},
   "outputs": [
    {
     "name": "stdout",
     "output_type": "stream",
     "text": [
      "[2 None 5 6]\n"
     ]
    }
   ],
   "source": [
    "import numpy as np\n",
    "import pandas as pd\n",
    "arr = np.array([2,None,5,6])\n",
    "print(arr)"
   ]
  },
  {
   "cell_type": "markdown",
   "id": "6e7f44bc-13f1-4bbf-8945-77550166aa49",
   "metadata": {},
   "source": [
    "Operations involving None may result in errors, such as when summing a list containing None"
   ]
  },
  {
   "cell_type": "markdown",
   "id": "93eabd57-525d-475e-a112-072982043390",
   "metadata": {},
   "source": [
    "## NaN: Missing Numerical Data\n",
    "\n",
    "NaN (Not a Number) is a special floating-point value used to represent missing numerical data. Unlike None, operations with NaN do not throw errors but propagate the NaN value."
   ]
  },
  {
   "cell_type": "code",
   "execution_count": 18,
   "id": "282ada70-0855-41cd-bdda-68470aa76c95",
   "metadata": {},
   "outputs": [
    {
     "name": "stdout",
     "output_type": "stream",
     "text": [
      "[ 1.  2. nan  5.]\n"
     ]
    }
   ],
   "source": [
    "arr = np.array([1,2,np.NaN,5])\n",
    "print(arr)"
   ]
  },
  {
   "cell_type": "markdown",
   "id": "e7fb44a6-c6a6-4867-98d9-a588217d361b",
   "metadata": {},
   "source": [
    "Arithmetic operations with NaN result in NaN."
   ]
  },
  {
   "cell_type": "markdown",
   "id": "08b729e0-1950-4027-8730-5ab5eef8c885",
   "metadata": {},
   "source": [
    "## Detecting Null Values\n",
    "\n",
    "`isnull() and notnull()`: These functions help detect missing values in data."
   ]
  },
  {
   "cell_type": "code",
   "execution_count": 32,
   "id": "6d60fa9e-eb81-42f3-890c-c24db80a4f14",
   "metadata": {},
   "outputs": [
    {
     "name": "stdout",
     "output_type": "stream",
     "text": [
      "0    False\n",
      "1    False\n",
      "2     True\n",
      "3    False\n",
      "4     True\n",
      "dtype: bool\n"
     ]
    }
   ],
   "source": [
    "data = pd.Series([1,2,np.NaN,5,None])\n",
    "print(data.isnull())"
   ]
  },
  {
   "cell_type": "markdown",
   "id": "9a1bf1b2-900f-47a0-b230-2ead13399fe2",
   "metadata": {},
   "source": [
    "## Dropping Null Values\n",
    "\n",
    "`dropna()` Function: Removes missing values from a Series or DataFrame."
   ]
  },
  {
   "cell_type": "code",
   "execution_count": 37,
   "id": "97797518-7081-444a-8dfc-08de63f8dfae",
   "metadata": {},
   "outputs": [
    {
     "name": "stdout",
     "output_type": "stream",
     "text": [
      "0    1.0\n",
      "1    2.0\n",
      "3    5.0\n",
      "dtype: float64\n"
     ]
    }
   ],
   "source": [
    "print(data.dropna())"
   ]
  },
  {
   "cell_type": "markdown",
   "id": "dcb167a6-24b3-4850-8634-4e4dc22b740d",
   "metadata": {},
   "source": [
    "Dropping rows or columns with missing values in a DataFrame."
   ]
  },
  {
   "cell_type": "markdown",
   "id": "83c07922-0f34-4dd0-a198-315492c1c4e5",
   "metadata": {},
   "source": [
    "## Filling Null Values\n",
    "\n",
    "`fillna()` Function: Replaces missing values with a specified value."
   ]
  },
  {
   "cell_type": "code",
   "execution_count": 9,
   "id": "c5606175-c1c4-47d7-a597-d51b6671f3f1",
   "metadata": {},
   "outputs": [
    {
     "name": "stdout",
     "output_type": "stream",
     "text": [
      "A    False\n",
      "B    False\n",
      "C     True\n",
      "D     True\n",
      "E    False\n",
      "dtype: bool\n",
      "A     1\n",
      "B    Hi\n",
      "C     0\n",
      "D     0\n",
      "E     5\n",
      "dtype: object\n"
     ]
    }
   ],
   "source": [
    "data = pd.Series([1,\"Hi\",np.NaN,None,5],index = ['A','B','C','D','E'])\n",
    "print(data.isnull())\n",
    "print(data.fillna(0))"
   ]
  },
  {
   "cell_type": "markdown",
   "id": "c3546131-e573-48f3-819d-7d8a74484502",
   "metadata": {},
   "source": [
    "Using methods like forward-fill `(ffill)` and back-fill `(bfill)` to propagate non-null values forward or backward."
   ]
  },
  {
   "cell_type": "markdown",
   "id": "53c5c20e-447e-4aa9-8a17-89b3ec70b787",
   "metadata": {},
   "source": [
    "## Forward Fill (ffill):\n",
    "\n",
    "- Propagates the last valid observation forward to fill missing values.\n",
    "- It looks at the previous row and fills the NaN value with the value from that row."
   ]
  },
  {
   "cell_type": "code",
   "execution_count": 60,
   "id": "ad9a5550-d49c-4bb8-8cad-feb806001638",
   "metadata": {},
   "outputs": [
    {
     "name": "stdout",
     "output_type": "stream",
     "text": [
      "     A    B\n",
      "0  1.0  5.0\n",
      "1  NaN  6.0\n",
      "2  3.0  NaN\n",
      "3  NaN  8.0\n"
     ]
    },
    {
     "data": {
      "text/html": [
       "<div>\n",
       "<style scoped>\n",
       "    .dataframe tbody tr th:only-of-type {\n",
       "        vertical-align: middle;\n",
       "    }\n",
       "\n",
       "    .dataframe tbody tr th {\n",
       "        vertical-align: top;\n",
       "    }\n",
       "\n",
       "    .dataframe thead th {\n",
       "        text-align: right;\n",
       "    }\n",
       "</style>\n",
       "<table border=\"1\" class=\"dataframe\">\n",
       "  <thead>\n",
       "    <tr style=\"text-align: right;\">\n",
       "      <th></th>\n",
       "      <th>A</th>\n",
       "      <th>B</th>\n",
       "    </tr>\n",
       "  </thead>\n",
       "  <tbody>\n",
       "    <tr>\n",
       "      <th>0</th>\n",
       "      <td>1.0</td>\n",
       "      <td>5.0</td>\n",
       "    </tr>\n",
       "    <tr>\n",
       "      <th>1</th>\n",
       "      <td>1.0</td>\n",
       "      <td>6.0</td>\n",
       "    </tr>\n",
       "    <tr>\n",
       "      <th>2</th>\n",
       "      <td>3.0</td>\n",
       "      <td>6.0</td>\n",
       "    </tr>\n",
       "    <tr>\n",
       "      <th>3</th>\n",
       "      <td>3.0</td>\n",
       "      <td>8.0</td>\n",
       "    </tr>\n",
       "  </tbody>\n",
       "</table>\n",
       "</div>"
      ],
      "text/plain": [
       "     A    B\n",
       "0  1.0  5.0\n",
       "1  1.0  6.0\n",
       "2  3.0  6.0\n",
       "3  3.0  8.0"
      ]
     },
     "execution_count": 60,
     "metadata": {},
     "output_type": "execute_result"
    }
   ],
   "source": [
    "df = pd.DataFrame({'A': [1, np.nan, 3, np.nan], 'B': [5, 6, np.nan, 8]})\n",
    "print(df)\n",
    "df.ffill()"
   ]
  },
  {
   "cell_type": "markdown",
   "id": "0963f3e8-daf0-4a91-b7e3-b60ce5db7da3",
   "metadata": {},
   "source": [
    "## Backward Fill (bfill):\n",
    "\n",
    "- Propagates the next valid observation backward to fill missing values.\n",
    "- It looks at the next row and fills the NaN value with the value from that row."
   ]
  },
  {
   "cell_type": "code",
   "execution_count": 71,
   "id": "2879436f-62a6-44d3-b550-1f438b9af5db",
   "metadata": {},
   "outputs": [
    {
     "name": "stdout",
     "output_type": "stream",
     "text": [
      "     A    B\n",
      "0  1.0  5.0\n",
      "1  NaN  6.0\n",
      "2  3.0  NaN\n",
      "3  NaN  8.0\n"
     ]
    },
    {
     "data": {
      "text/html": [
       "<div>\n",
       "<style scoped>\n",
       "    .dataframe tbody tr th:only-of-type {\n",
       "        vertical-align: middle;\n",
       "    }\n",
       "\n",
       "    .dataframe tbody tr th {\n",
       "        vertical-align: top;\n",
       "    }\n",
       "\n",
       "    .dataframe thead th {\n",
       "        text-align: right;\n",
       "    }\n",
       "</style>\n",
       "<table border=\"1\" class=\"dataframe\">\n",
       "  <thead>\n",
       "    <tr style=\"text-align: right;\">\n",
       "      <th></th>\n",
       "      <th>A</th>\n",
       "      <th>B</th>\n",
       "    </tr>\n",
       "  </thead>\n",
       "  <tbody>\n",
       "    <tr>\n",
       "      <th>0</th>\n",
       "      <td>1.0</td>\n",
       "      <td>5.0</td>\n",
       "    </tr>\n",
       "    <tr>\n",
       "      <th>1</th>\n",
       "      <td>3.0</td>\n",
       "      <td>6.0</td>\n",
       "    </tr>\n",
       "    <tr>\n",
       "      <th>2</th>\n",
       "      <td>3.0</td>\n",
       "      <td>8.0</td>\n",
       "    </tr>\n",
       "    <tr>\n",
       "      <th>3</th>\n",
       "      <td>NaN</td>\n",
       "      <td>8.0</td>\n",
       "    </tr>\n",
       "  </tbody>\n",
       "</table>\n",
       "</div>"
      ],
      "text/plain": [
       "     A    B\n",
       "0  1.0  5.0\n",
       "1  3.0  6.0\n",
       "2  3.0  8.0\n",
       "3  NaN  8.0"
      ]
     },
     "execution_count": 71,
     "metadata": {},
     "output_type": "execute_result"
    }
   ],
   "source": [
    "df = pd.DataFrame({'A': [1, np.nan, 3, np.nan], 'B': [5, 6, np.nan, 8]})\n",
    "print(df)\n",
    "df.bfill()"
   ]
  }
 ],
 "metadata": {
  "kernelspec": {
   "display_name": "Python 3 (ipykernel)",
   "language": "python",
   "name": "python3"
  },
  "language_info": {
   "codemirror_mode": {
    "name": "ipython",
    "version": 3
   },
   "file_extension": ".py",
   "mimetype": "text/x-python",
   "name": "python",
   "nbconvert_exporter": "python",
   "pygments_lexer": "ipython3",
   "version": "3.12.4"
  }
 },
 "nbformat": 4,
 "nbformat_minor": 5
}
