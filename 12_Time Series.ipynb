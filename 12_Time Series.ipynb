{
 "cells": [
  {
   "cell_type": "markdown",
   "id": "8c5d9878-540b-4162-9b5b-53ecd6cc369a",
   "metadata": {},
   "source": [
    "### Working with Time Series in Pandas\n",
    "\n",
    "Pandas is great for handling data related to dates and times. Here are the key types of date/time data that we works with:\n",
    "\n",
    "1. **Timestamps**: Specific points in time (e.g., July 4th, 2021, at 7:00 a.m.).\n",
    "2. **Time Intervals/Periods**: Lengths of time (e.g., the entire month of June 2021).\n",
    "3. **Time Deltas/Durations**: Exact lengths of time (e.g., 22.56 seconds)."
   ]
  },
  {
   "cell_type": "markdown",
   "id": "dbd2dec1-2e3e-4b73-9073-f0fc5a989f26",
   "metadata": {},
   "source": [
    "### Dates and Times in Python\n",
    "\n",
    "**Python's Native Tools**:\n",
    "- **`datetime` Module**: Provides basic functions to work with dates and times.\n",
    "  - Example: Create a specific date:\n",
    "    \n",
    "    "
   ]
  },
  {
   "cell_type": "code",
   "execution_count": 3,
   "id": "6c4a4340-812f-48a9-974d-7316029f38ef",
   "metadata": {},
   "outputs": [
    {
     "data": {
      "text/plain": [
       "datetime.datetime(2021, 7, 4, 0, 0)"
      ]
     },
     "execution_count": 3,
     "metadata": {},
     "output_type": "execute_result"
    }
   ],
   "source": [
    "from datetime import datetime\n",
    "dt = datetime(year=2021, month=7, day=4)\n",
    "dt"
   ]
  },
  {
   "cell_type": "markdown",
   "id": "518e41b7-342d-42fe-88dd-b7ee6b1dd616",
   "metadata": {},
   "source": [
    "\n",
    "\n",
    "\n",
    "- Example: Parse a date from a string using the `dateutil` module:\n",
    "    \n",
    "    "
   ]
  },
  {
   "cell_type": "markdown",
   "id": "13bc2f53-ca52-4f70-9d43-144d329a4113",
   "metadata": {},
   "source": [
    "The `dateutil` module provides a `parse` function that you can use to parse `dates` into desired `string formats`. First, you'll need to import the parse function: **`from dateutil.parser import parse`**. Then you can use the parse function to return a parsed version of the date string."
   ]
  },
  {
   "cell_type": "code",
   "execution_count": 6,
   "id": "a4a9e420-78a1-4eda-9d95-148860e949a1",
   "metadata": {},
   "outputs": [
    {
     "data": {
      "text/plain": [
       "datetime.datetime(2021, 7, 4, 0, 0)"
      ]
     },
     "execution_count": 6,
     "metadata": {},
     "output_type": "execute_result"
    }
   ],
   "source": [
    "from dateutil import parser\n",
    "dt = parser.parse(\"4th of July, 2021\")\n",
    "dt"
   ]
  },
  {
   "cell_type": "markdown",
   "id": "91b8953b-0a46-47fd-937f-c9206549f1c4",
   "metadata": {},
   "source": [
    "- **Formatting**: Print the day of the week:"
   ]
  },
  {
   "cell_type": "code",
   "execution_count": 109,
   "id": "662e1051-99ea-4cdc-92ed-aaee49282af4",
   "metadata": {},
   "outputs": [
    {
     "data": {
      "text/plain": [
       "'Sun'"
      ]
     },
     "execution_count": 109,
     "metadata": {},
     "output_type": "execute_result"
    }
   ],
   "source": [
    "dt.strftime('%a')"
   ]
  },
  {
   "cell_type": "markdown",
   "id": "6142dc4c-50bc-444d-b82c-2e032a419dff",
   "metadata": {},
   "source": [
    "**NumPy's `datetime64`**:\n",
    "\n",
    "- **`datetime64` Type**: Efficiently handles arrays of dates and times.\n",
    "  - Example: Create a `datetime64` object:"
   ]
  },
  {
   "cell_type": "code",
   "execution_count": 10,
   "id": "a007b590-2e1e-4c8c-932b-96d0311e61f5",
   "metadata": {},
   "outputs": [
    {
     "data": {
      "text/plain": [
       "array('2002-06-24', dtype='datetime64[D]')"
      ]
     },
     "execution_count": 10,
     "metadata": {},
     "output_type": "execute_result"
    }
   ],
   "source": [
    "import numpy as np\n",
    "date = np.array('2002-06-24',dtype=np.datetime64)\n",
    "date"
   ]
  },
  {
   "cell_type": "markdown",
   "id": "97bddef8-74c7-446a-819a-89b351868d81",
   "metadata": {},
   "source": [
    "  - **Vectorized Operations**: Perform operations on arrays of dates:"
   ]
  },
  {
   "cell_type": "code",
   "execution_count": 12,
   "id": "7d8162bf-f04e-4a26-b359-5fbacbf72fa9",
   "metadata": {},
   "outputs": [
    {
     "data": {
      "text/plain": [
       "array(['2002-06-24', '2002-06-25', '2002-06-26', '2002-06-27',\n",
       "       '2002-06-28', '2002-06-29', '2002-06-30', '2002-07-01',\n",
       "       '2002-07-02', '2002-07-03', '2002-07-04', '2002-07-05',\n",
       "       '2002-07-06', '2002-07-07', '2002-07-08', '2002-07-09',\n",
       "       '2002-07-10', '2002-07-11', '2002-07-12', '2002-07-13',\n",
       "       '2002-07-14', '2002-07-15', '2002-07-16', '2002-07-17',\n",
       "       '2002-07-18', '2002-07-19', '2002-07-20', '2002-07-21'],\n",
       "      dtype='datetime64[D]')"
      ]
     },
     "execution_count": 12,
     "metadata": {},
     "output_type": "execute_result"
    }
   ],
   "source": [
    "date+ np.arange(28)"
   ]
  },
  {
   "cell_type": "markdown",
   "id": "e737311c-e762-4e68-a1d2-46e84a9b7aa8",
   "metadata": {},
   "source": [
    "**Precision and Range**:\n",
    "\n",
    "- **Time Resolution**: The `datetime64` type can encode different levels of precision (e.g., days, minutes, nanoseconds).\n",
    "  - Example: Create a nanosecond-precision date:"
   ]
  },
  {
   "cell_type": "markdown",
   "id": "177e1507-912c-4f64-b830-3ef0c41f798a",
   "metadata": {},
   "source": [
    "|Code    | Meaning     | Time span (relative) | Time span (absolute)   |\n",
    "|--------|-------------|----------------------|------------------------|\n",
    "| ``Y``  | Year\t       | ± 9.2e18 years       | [9.2e18 BC, 9.2e18 AD] |\n",
    "| ``M``  | Month       | ± 7.6e17 years       | [7.6e17 BC, 7.6e17 AD] |\n",
    "| ``W``  | Week\t       | ± 1.7e17 years       | [1.7e17 BC, 1.7e17 AD] |\n",
    "| ``D``  | Day         | ± 2.5e16 years       | [2.5e16 BC, 2.5e16 AD] |\n",
    "| ``h``  | Hour        | ± 1.0e15 years       | [1.0e15 BC, 1.0e15 AD] |\n",
    "| ``m``  | Minute      | ± 1.7e13 years       | [1.7e13 BC, 1.7e13 AD] |\n",
    "| ``s``  | Second      | ± 2.9e12 years       | [ 2.9e9 BC, 2.9e9 AD]  |\n",
    "| ``ms`` | Millisecond | ± 2.9e9 years        | [ 2.9e6 BC, 2.9e6 AD]  |\n",
    "| ``us`` | Microsecond | ± 2.9e6 years        | [290301 BC, 294241 AD] |\n",
    "| ``ns`` | Nanosecond  | ± 292 years          | [ 1678 AD, 2262 AD]    |\n",
    "| ``ps`` | Picosecond  | ± 106 days           | [ 1969 AD, 1970 AD]    |\n",
    "| ``fs`` | Femtosecond | ± 2.6 hours          | [ 1969 AD, 1970 AD]    |\n",
    "| ``as`` | Attosecond  | ± 9.2 seconds        | [ 1969 AD, 1970 AD]    |"
   ]
  },
  {
   "cell_type": "code",
   "execution_count": 15,
   "id": "31c34962-45e2-406f-bada-8a84bc1032b5",
   "metadata": {},
   "outputs": [
    {
     "data": {
      "text/plain": [
       "numpy.datetime64('2015-07-04T12:00')"
      ]
     },
     "execution_count": 15,
     "metadata": {},
     "output_type": "execute_result"
    }
   ],
   "source": [
    "np.datetime64('2015-07-04 12:00')"
   ]
  },
  {
   "cell_type": "code",
   "execution_count": 16,
   "id": "f1088ed7-a343-4413-8d3b-449caad903ab",
   "metadata": {},
   "outputs": [
    {
     "data": {
      "text/plain": [
       "numpy.datetime64('2021-07-04T12:59:59.500000000')"
      ]
     },
     "execution_count": 16,
     "metadata": {},
     "output_type": "execute_result"
    }
   ],
   "source": [
    "np.datetime64('2021-07-04 12:59:59.50', 'ns')"
   ]
  },
  {
   "cell_type": "code",
   "execution_count": 17,
   "id": "0c181e58-0d05-4e88-add5-ccd074a5359f",
   "metadata": {},
   "outputs": [
    {
     "data": {
      "text/plain": [
       "numpy.datetime64('2002-06-24')"
      ]
     },
     "execution_count": 17,
     "metadata": {},
     "output_type": "execute_result"
    }
   ],
   "source": [
    "np.datetime64('2002-06-24 08:16','D')"
   ]
  },
  {
   "cell_type": "markdown",
   "id": "70701761-dab4-4057-aa4d-20d7ba8edbeb",
   "metadata": {},
   "source": [
    "#### **Available Time Units**:\n",
    "- **Time Units**: Different codes represent different levels of precision (e.g., 'Y' for year, 'D' for day).\n",
    "  - Example: `'ns'` for nanoseconds can encode dates from 1678 AD to 2262 AD.\n",
    "\n",
    "**NOTES**:\n",
    "- Use Python’s `datetime` and `dateutil` for basic date and time handling.\n",
    "- For handling large arrays of dates efficiently, use NumPy’s `datetime64`."
   ]
  },
  {
   "cell_type": "markdown",
   "id": "1661583d-342e-4d54-a50c-a5bda6c2d50a",
   "metadata": {},
   "source": [
    "### **Dates and Times in Pandas**\n",
    "\n",
    "**Pandas Enhancements**:\n",
    "- **`Timestamp`**: Combines the ease of Python's `datetime` with the efficiency of NumPy's `datetime64`.\n",
    "- **`DatetimeIndex`**: A special type of index in Pandas that handles time-series data efficiently.\n",
    "\n",
    "**Example**:\n",
    "- Create a `Timestamp` from a string and format it:"
   ]
  },
  {
   "cell_type": "code",
   "execution_count": 20,
   "id": "6589c408-9da4-4dfb-9cad-521724e53caf",
   "metadata": {},
   "outputs": [
    {
     "data": {
      "text/plain": [
       "Timestamp('2002-06-21 00:00:00')"
      ]
     },
     "execution_count": 20,
     "metadata": {},
     "output_type": "execute_result"
    }
   ],
   "source": [
    "import pandas as pd\n",
    "date = pd.to_datetime('2002-06-21')\n",
    "date"
   ]
  },
  {
   "cell_type": "markdown",
   "id": "e689c40a-3efa-4c6b-a6ee-a08628e5a2ee",
   "metadata": {},
   "source": [
    "Here’s a list of common format codes for `strftime`, used to format dates and times in Python:\n",
    "\n",
    "- **`%Y`**: Year with century (e.g., 2024)\n",
    "- **`%y`**: Year without century (e.g., 24 for 2024)\n",
    "- **`%m`**: Month as a zero-padded decimal number (01 to 12)\n",
    "- **`%d`**: Day of the month as a zero-padded decimal number (01 to 31)\n",
    "- **`%H`**: Hour (24-hour clock) as a zero-padded decimal number (00 to 23)\n",
    "- **`%I`**: Hour (12-hour clock) as a zero-padded decimal number (01 to 12)\n",
    "- **`%M`**: Minute as a zero-padded decimal number (00 to 59)\n",
    "- **`%S`**: Second as a zero-padded decimal number (00 to 59)\n",
    "- **`%p`**: AM or PM\n",
    "- **`%a`**: Abbreviated weekday name (e.g., Mon, Tue)\n",
    "- **`%A`**: Full weekday name (e.g., Monday, Tuesday)\n",
    "- **`%b`**: Abbreviated month name (e.g., Jan, Feb)\n",
    "- **`%B`**: Full month name (e.g., January, February)\n",
    "- **`%c`**: Locale’s appropriate date and time representation\n",
    "- **`%x`**: Locale’s appropriate date representation\n",
    "- **`%X`**: Locale’s appropriate time representation\n",
    "- **`%z`**: UTC offset in the form ±HHMM (e.g., +0000)\n",
    "- **`%Z`**: Time zone name (e.g., UTC, EST)\n",
    "\n"
   ]
  },
  {
   "cell_type": "code",
   "execution_count": 22,
   "id": "46e568e1-8f4b-4629-9e34-02e449247ffc",
   "metadata": {},
   "outputs": [
    {
     "name": "stdout",
     "output_type": "stream",
     "text": [
      "0      Monday\n",
      "1     Tuesday\n",
      "2    Saturday\n",
      "3      Friday\n",
      "dtype: object\n"
     ]
    }
   ],
   "source": [
    "import pandas as pd\n",
    "\n",
    "s = pd.Series(pd.to_datetime(['2002-06-24','2002-10-29','2019-12-21', '2024-08-09']))\n",
    "\n",
    "days_of_week = s.dt.strftime('%A')\n",
    "print(days_of_week)"
   ]
  },
  {
   "cell_type": "markdown",
   "id": "5e65d2d3-ebc7-446c-9e19-04716ec9e91d",
   "metadata": {},
   "source": [
    "- Perform vectorized operations:\n",
    "  \n"
   ]
  },
  {
   "cell_type": "code",
   "execution_count": 24,
   "id": "d575d028-38dc-43d0-a18f-59902401cda9",
   "metadata": {},
   "outputs": [
    {
     "data": {
      "text/plain": [
       "DatetimeIndex(['2002-06-21', '2002-06-22', '2002-06-23', '2002-06-24',\n",
       "               '2002-06-25', '2002-06-26', '2002-06-27', '2002-06-28',\n",
       "               '2002-06-29', '2002-06-30'],\n",
       "              dtype='datetime64[ns]', freq=None)"
      ]
     },
     "execution_count": 24,
     "metadata": {},
     "output_type": "execute_result"
    }
   ],
   "source": [
    "import pandas as pd\n",
    "date = pd.to_datetime('2002-06-21')\n",
    "date + pd.to_timedelta(np.arange(10),'D')"
   ]
  },
  {
   "cell_type": "markdown",
   "id": "0dea060a-8d8a-4dff-b674-7bb00f8962c5",
   "metadata": {},
   "source": [
    "### **Indexing with Time in Pandas**\n",
    "\n",
    "- **Creating a Time-Indexed Series**:"
   ]
  },
  {
   "cell_type": "code",
   "execution_count": 26,
   "id": "4f86f645-01cd-415c-bc1b-8ad0126ecc34",
   "metadata": {},
   "outputs": [
    {
     "data": {
      "text/plain": [
       "2014-07-04    1\n",
       "2014-08-04    2\n",
       "2015-07-04    3\n",
       "2015-08-04    4\n",
       "dtype: int64"
      ]
     },
     "execution_count": 26,
     "metadata": {},
     "output_type": "execute_result"
    }
   ],
   "source": [
    "index = pd.DatetimeIndex(['2014-07-04', '2014-08-04',\n",
    "                          '2015-07-04', '2015-08-04'])\n",
    "data = pd.Series([1,2,3,4],index = index)\n",
    "data"
   ]
  },
  {
   "cell_type": "markdown",
   "id": "493caf6e-f162-4a83-a325-fb86bfd07c35",
   "metadata": {},
   "source": [
    "- **Indexing by Date**:"
   ]
  },
  {
   "cell_type": "code",
   "execution_count": 28,
   "id": "3c36b188-5f64-4cea-ad90-fc399cc34bb1",
   "metadata": {},
   "outputs": [
    {
     "data": {
      "text/plain": [
       "2014-08-04    2\n",
       "2015-07-04    3\n",
       "2015-08-04    4\n",
       "dtype: int64"
      ]
     },
     "execution_count": 28,
     "metadata": {},
     "output_type": "execute_result"
    }
   ],
   "source": [
    "data['2014-08-04':'2015-08-04']"
   ]
  },
  {
   "cell_type": "code",
   "execution_count": 29,
   "id": "0e28fd1a-7fdf-486f-b624-5d038c57e28d",
   "metadata": {},
   "outputs": [
    {
     "data": {
      "text/plain": [
       "2014-07-04    1\n",
       "2014-08-04    2\n",
       "dtype: int64"
      ]
     },
     "execution_count": 29,
     "metadata": {},
     "output_type": "execute_result"
    }
   ],
   "source": [
    "data['2014']"
   ]
  },
  {
   "cell_type": "markdown",
   "id": "f5d36b86-04c3-4a3b-a9e9-e627f3f51ae8",
   "metadata": {},
   "source": [
    "\n",
    "### **Pandas Time Series Data Structures**\n",
    "\n",
    "1. **`Timestamp` and `DatetimeIndex`**:\n",
    "   - **`Timestamp`**: For single time points.\n",
    "   - **`DatetimeIndex`**: For indexing time series data.\n",
    "     \n",
    "\n",
    "2. **`Period` and `PeriodIndex`**:\n",
    "   - **`Period`**: Represents fixed time intervals (e.g., months, years).\n",
    "   - **`PeriodIndex`**: Index for time periods.\n",
    "  \n",
    "\n",
    "3. **`Timedelta` and `TimedeltaIndex`**:\n",
    "   - **`Timedelta`**: Represents differences between dates (e.g., durations).\n",
    "   - **`TimedeltaIndex`**: Index for time differences.\n"
   ]
  },
  {
   "cell_type": "markdown",
   "id": "07457d68-b65c-4b07-b5ef-ebf9b4e38fd9",
   "metadata": {},
   "source": [
    "The most fundamental of these date/time objects are the ``Timestamp`` and ``DatetimeIndex`` objects.\n",
    "While these class objects can be invoked directly, it is more common to use the ``pd.to_datetime()`` function, which can parse a wide variety of formats.\n",
    "Passing a single date to ``pd.to_datetime()`` yields a ``Timestamp``; passing a series of dates by default yields a ``DatetimeIndex``:"
   ]
  },
  {
   "cell_type": "code",
   "execution_count": 35,
   "id": "edc6c177-d18e-4468-a52b-385fffa699c7",
   "metadata": {},
   "outputs": [
    {
     "data": {
      "text/plain": [
       "DatetimeIndex(['2021-07-03', '2021-07-04', '2021-07-06', '2021-07-07',\n",
       "               '2021-07-08'],\n",
       "              dtype='datetime64[ns]', freq=None)"
      ]
     },
     "execution_count": 35,
     "metadata": {},
     "output_type": "execute_result"
    }
   ],
   "source": [
    "dates = pd.to_datetime([datetime(2021, 7, 3), '4th of July, 2021', '2021-Jul-6', '07-07-2021', '20210708'])\n",
    "dates"
   ]
  },
  {
   "cell_type": "markdown",
   "id": "57bac767-797a-41f2-9054-4f98014ab630",
   "metadata": {},
   "source": [
    "- **Convert `DatetimeIndex` to `PeriodIndex`**:"
   ]
  },
  {
   "cell_type": "code",
   "execution_count": 46,
   "id": "2bff9de4-5c18-4234-8e8d-c1c0e98bb5d7",
   "metadata": {},
   "outputs": [
    {
     "data": {
      "text/plain": [
       "PeriodIndex(['2021-07-03', '2021-07-04', '2021-07-06', '2021-07-07',\n",
       "             '2021-07-08'],\n",
       "            dtype='period[D]')"
      ]
     },
     "execution_count": 46,
     "metadata": {},
     "output_type": "execute_result"
    }
   ],
   "source": [
    "dates.to_period(\"D\")"
   ]
  },
  {
   "cell_type": "markdown",
   "id": "422bbb58-2029-4447-8f7c-22477c24ed20",
   "metadata": {},
   "source": [
    "- **Calculate time differences**:"
   ]
  },
  {
   "cell_type": "markdown",
   "id": "64b8ff2c-7c1a-410f-9cd7-f0f591956833",
   "metadata": {},
   "source": [
    "A ``TimedeltaIndex`` is created, for example, when a date is subtracted from another:"
   ]
  },
  {
   "cell_type": "code",
   "execution_count": 49,
   "id": "dbd7c7f3-6fe3-4a63-be87-7914b4b3b538",
   "metadata": {},
   "outputs": [
    {
     "data": {
      "text/plain": [
       "TimedeltaIndex(['0 days', '1 days', '3 days', '4 days', '5 days'], dtype='timedelta64[ns]', freq=None)"
      ]
     },
     "execution_count": 49,
     "metadata": {},
     "output_type": "execute_result"
    }
   ],
   "source": [
    "dates - dates[0]"
   ]
  },
  {
   "cell_type": "markdown",
   "id": "623c9ef2-f68c-47e9-886c-540e9573ce43",
   "metadata": {},
   "source": [
    "#### **``pd.date_range()``**\n",
    "\n",
    "To make the creation of regular date sequences more convenient, Pandas offers a few functions for this purpose: \n",
    "- ``pd.date_range()`` for timestamps\n",
    "- ``pd.period_range()`` for periods\n",
    "- ``pd.timedelta_range()`` for time deltas.\n",
    "  \n",
    "We've seen that Python's ``range()`` and NumPy's ``np.arange()`` turn a startpoint, endpoint, and optional stepsize into a sequence.\n",
    "Similarly, ``pd.date_range()`` accepts a start date, an end date, and an optional frequency code to create a regular sequence of dates.\n",
    "By default, the frequency is one day:"
   ]
  },
  {
   "cell_type": "code",
   "execution_count": 61,
   "id": "25ca981f-325d-402d-ab6e-7fa08a4f6461",
   "metadata": {},
   "outputs": [
    {
     "data": {
      "text/plain": [
       "DatetimeIndex(['2002-06-24', '2002-06-25', '2002-06-26', '2002-06-27',\n",
       "               '2002-06-28', '2002-06-29', '2002-06-30', '2002-07-01',\n",
       "               '2002-07-02', '2002-07-03',\n",
       "               ...\n",
       "               '2002-10-20', '2002-10-21', '2002-10-22', '2002-10-23',\n",
       "               '2002-10-24', '2002-10-25', '2002-10-26', '2002-10-27',\n",
       "               '2002-10-28', '2002-10-29'],\n",
       "              dtype='datetime64[ns]', length=128, freq='D')"
      ]
     },
     "execution_count": 61,
     "metadata": {},
     "output_type": "execute_result"
    }
   ],
   "source": [
    "pd.date_range('2002-06-24','2002-10-29')"
   ]
  },
  {
   "cell_type": "code",
   "execution_count": 71,
   "id": "87bd1e4e-6fca-4017-acda-2b5b4c4c5568",
   "metadata": {},
   "outputs": [
    {
     "data": {
      "text/plain": [
       "DatetimeIndex(['2019-12-21', '2019-12-22', '2019-12-23', '2019-12-24',\n",
       "               '2019-12-25', '2019-12-26', '2019-12-27', '2019-12-28',\n",
       "               '2019-12-29', '2019-12-30', '2019-12-31', '2020-01-01'],\n",
       "              dtype='datetime64[ns]', freq='D')"
      ]
     },
     "execution_count": 71,
     "metadata": {},
     "output_type": "execute_result"
    }
   ],
   "source": [
    "pd.date_range('2019-12-21',periods=12)"
   ]
  },
  {
   "cell_type": "code",
   "execution_count": 75,
   "id": "bbdbffc1-88f9-4f28-9223-d53db9f02ddb",
   "metadata": {},
   "outputs": [
    {
     "data": {
      "text/plain": [
       "DatetimeIndex(['2019-12-21 00:00:00', '2019-12-21 01:00:00',\n",
       "               '2019-12-21 02:00:00', '2019-12-21 03:00:00',\n",
       "               '2019-12-21 04:00:00', '2019-12-21 05:00:00',\n",
       "               '2019-12-21 06:00:00', '2019-12-21 07:00:00',\n",
       "               '2019-12-21 08:00:00', '2019-12-21 09:00:00',\n",
       "               '2019-12-21 10:00:00', '2019-12-21 11:00:00'],\n",
       "              dtype='datetime64[ns]', freq='h')"
      ]
     },
     "execution_count": 75,
     "metadata": {},
     "output_type": "execute_result"
    }
   ],
   "source": [
    "pd.date_range('2019-12-21',periods=12,freq = 'h')"
   ]
  },
  {
   "cell_type": "markdown",
   "id": "97f20ed7-5c4b-4cc6-80dc-cdebd8636c36",
   "metadata": {},
   "source": [
    "To create regular sequences of ``Period`` or ``Timedelta`` values, the very similar ``pd.period_range()`` and ``pd.timedelta_range()`` functions are useful.\n",
    "Here are some monthly periods:"
   ]
  },
  {
   "cell_type": "code",
   "execution_count": 119,
   "id": "549bbb95-1e23-4b66-8579-a49a927f979f",
   "metadata": {},
   "outputs": [
    {
     "data": {
      "text/plain": [
       "PeriodIndex(['2019-12', '2020-01', '2020-02', '2020-03', '2020-04', '2020-05',\n",
       "             '2020-06', '2020-07', '2020-08', '2020-09', '2020-10', '2020-11'],\n",
       "            dtype='period[M]')"
      ]
     },
     "execution_count": 119,
     "metadata": {},
     "output_type": "execute_result"
    }
   ],
   "source": [
    "pd.period_range('2019-12-21',periods=12,freq = 'M')"
   ]
  },
  {
   "cell_type": "markdown",
   "id": "c5915539-0970-40e6-9532-5842b61ca9fb",
   "metadata": {},
   "source": [
    "And a sequence of durations increasing by an hour:"
   ]
  },
  {
   "cell_type": "code",
   "execution_count": 93,
   "id": "aa70060e-1de2-4066-9c02-6446a5024efa",
   "metadata": {},
   "outputs": [
    {
     "data": {
      "text/plain": [
       "TimedeltaIndex(['0 days 00:00:00', '0 days 01:00:00', '0 days 02:00:00',\n",
       "                '0 days 03:00:00', '0 days 04:00:00', '0 days 05:00:00',\n",
       "                '0 days 06:00:00', '0 days 07:00:00', '0 days 08:00:00',\n",
       "                '0 days 09:00:00'],\n",
       "               dtype='timedelta64[ns]', freq='h')"
      ]
     },
     "execution_count": 93,
     "metadata": {},
     "output_type": "execute_result"
    }
   ],
   "source": [
    "pd.timedelta_range(0, periods = 10, freq = 'h')"
   ]
  },
  {
   "cell_type": "markdown",
   "id": "17d59a24-ce40-4368-9852-821ae9271492",
   "metadata": {},
   "source": [
    "## Frequencies and Offsets\n",
    "\n",
    "Fundamental to these Pandas time series tools is the concept of a frequency or date offset.\n",
    "Just as we saw the ``D`` (day) and ``H`` (hour) codes above, we can use such codes to specify any desired frequency spacing.\n",
    "The following table summarizes the main codes available:"
   ]
  },
  {
   "cell_type": "markdown",
   "id": "6fcfd587-b534-42b0-a412-15c4c51cb1da",
   "metadata": {},
   "source": [
    "| Code   | Description         | Code   | Description          |\n",
    "|--------|---------------------|--------|----------------------|\n",
    "| ``D``  | Calendar day        | ``B``  | Business day         |\n",
    "| ``MS`` | Month start         |``BMS`` | Business month start |\n",
    "| ``QS`` | Quarter start       |``BQS`` | Businessquarter start|\n",
    "| ``AS`` | Year start          |``BAS`` | Business year start  |\n",
    "| ``M``  | Month end           | ``BM`` | Business month end   |\n",
    "| ``Q``  | Quarter end         | ``BQ`` | Business quarter end |\n",
    "| ``A``  | Year end            | ``BA`` | Business year end    |\n",
    "| ``H``  | Hours               | ``BH`` | Business hours       |\n",
    "| ``T``  | Minutes             |        |                      |\n",
    "| ``S``  | Seconds             |        |                      |\n",
    "| ``L``  | Milliseonds         |        |                      |\n",
    "| ``U``  | Microseconds        |        |                      |\n",
    "| ``N``  | nanoseconds         |        |                      |\n",
    "| ``W``  | Weekly              |        |                      |"
   ]
  },
  {
   "cell_type": "markdown",
   "id": "c7fb5f9b-d2ff-411a-8d76-f295fe996ce0",
   "metadata": {},
   "source": [
    "Frequencies and offsets are essential components of Pandas' time series functionality, allowing you to work with dates and times at different granularities.\n",
    "\n",
    "**Frequencies**\n",
    "\n",
    "Frequencies define the regularity of a time series. They are represented by strings or aliases\n",
    "\n",
    "**Offsets**\n",
    "\n",
    "Offsets represent a fixed duration of time. They are instances of the pandas.tseries.offsets.DateOffset class and its subclasses. Some common offsets include:\n",
    "\n",
    "pd.DateOffset(days=1): One day offset\\\n",
    "pd.DateOffset(months=2): Two months offset\\\n",
    "pd.tseries.offsets.BDay(): Business day offset\\\n",
    "pd.tseries.offsets.MonthEnd(): Month end offset"
   ]
  },
  {
   "cell_type": "code",
   "execution_count": 115,
   "id": "bfd60fb1-0378-4336-97ef-775c545ec7f5",
   "metadata": {},
   "outputs": [
    {
     "data": {
      "text/plain": [
       "TimedeltaIndex(['0 days 00:00:00', '0 days 02:30:00', '0 days 05:00:00',\n",
       "                '0 days 07:30:00', '0 days 10:00:00', '0 days 12:30:00',\n",
       "                '0 days 15:00:00', '0 days 17:30:00', '0 days 20:00:00'],\n",
       "               dtype='timedelta64[ns]', freq='150min')"
      ]
     },
     "execution_count": 115,
     "metadata": {},
     "output_type": "execute_result"
    }
   ],
   "source": [
    "pd.timedelta_range(0, periods=9, freq=\"2h30min\")"
   ]
  },
  {
   "cell_type": "code",
   "execution_count": null,
   "id": "aca7d74a-0f85-417b-a711-d248b5318953",
   "metadata": {},
   "outputs": [],
   "source": []
  }
 ],
 "metadata": {
  "kernelspec": {
   "display_name": "Python 3 (ipykernel)",
   "language": "python",
   "name": "python3"
  },
  "language_info": {
   "codemirror_mode": {
    "name": "ipython",
    "version": 3
   },
   "file_extension": ".py",
   "mimetype": "text/x-python",
   "name": "python",
   "nbconvert_exporter": "python",
   "pygments_lexer": "ipython3",
   "version": "3.12.4"
  }
 },
 "nbformat": 4,
 "nbformat_minor": 5
}
