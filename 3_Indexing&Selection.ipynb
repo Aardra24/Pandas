{
 "cells": [
  {
   "cell_type": "markdown",
   "id": "4acd33ac-c307-442b-968d-6b206d817b93",
   "metadata": {},
   "source": [
    "### Introduction to Data Indexing and Selection\n",
    "\n",
    "\n",
    "\n",
    "#### **Basic Indexing and Slicing**\n",
    "- A `Series` is a one-dimensional array-like object containing an array of data and an associated array of data labels.\n",
    "- You can select data using labels (like a dictionary) or numerical indices (like a list)."
   ]
  },
  {
   "cell_type": "markdown",
   "id": "a44ca56f-596b-4d16-b0d2-ddee84117c77",
   "metadata": {},
   "source": [
    "## Data Selection in Series"
   ]
  },
  {
   "cell_type": "code",
   "execution_count": 74,
   "id": "80be08fc-d364-473c-b0cb-ab15d6a16137",
   "metadata": {},
   "outputs": [
    {
     "name": "stdout",
     "output_type": "stream",
     "text": [
      "a    0.25\n",
      "b    0.45\n",
      "c    0.32\n",
      "d    1.58\n",
      "dtype: float64\n"
     ]
    }
   ],
   "source": [
    "import pandas as pd\n",
    "data = pd.Series([0.25,0.45,0.32,1.58],index = ['a','b','c','d'])\n",
    "print(data)"
   ]
  },
  {
   "cell_type": "markdown",
   "id": "7e984583-b3e9-4534-bfdc-3970027bf5da",
   "metadata": {},
   "source": [
    "**1. Indexing**\n",
    "\n",
    "Use labels to get specific data"
   ]
  },
  {
   "cell_type": "code",
   "execution_count": 77,
   "id": "59334472-b59f-4f17-97c4-22d79e037e05",
   "metadata": {},
   "outputs": [
    {
     "name": "stdout",
     "output_type": "stream",
     "text": [
      "0.32\n"
     ]
    }
   ],
   "source": [
    "print(data['c'])"
   ]
  },
  {
   "cell_type": "markdown",
   "id": "e42d4694-e04e-4a91-85fa-e0a72b114dad",
   "metadata": {},
   "source": [
    "**2. Slicing**\n",
    "\n",
    "Use labels to slice data"
   ]
  },
  {
   "cell_type": "code",
   "execution_count": 80,
   "id": "d93e1546-962d-43a8-8920-b0c62fdfdb10",
   "metadata": {},
   "outputs": [
    {
     "name": "stdout",
     "output_type": "stream",
     "text": [
      "b    0.45\n",
      "c    0.32\n",
      "dtype: float64\n"
     ]
    }
   ],
   "source": [
    "print(data[1:3])"
   ]
  },
  {
   "cell_type": "markdown",
   "id": "ff9cdcbd-d689-4720-b031-c41f75707f77",
   "metadata": {},
   "source": [
    "**3. Masking**\n",
    "\n",
    "Masking allows to select data based on a condition"
   ]
  },
  {
   "cell_type": "code",
   "execution_count": 82,
   "id": "bb70def2-774f-4983-a52c-ec0c85b8498d",
   "metadata": {},
   "outputs": [
    {
     "name": "stdout",
     "output_type": "stream",
     "text": [
      "a    0.25\n",
      "b    0.45\n",
      "c    0.32\n",
      "d    1.58\n",
      "dtype: float64\n"
     ]
    }
   ],
   "source": [
    "print(data[data>0.2])"
   ]
  },
  {
   "cell_type": "markdown",
   "id": "9e97ddf6-1c4f-4a16-b348-ad0e1c021427",
   "metadata": {},
   "source": [
    "**4. Fancy Indexing**\n",
    "\n",
    "Fancy indexing uses a list of labels"
   ]
  },
  {
   "cell_type": "code",
   "execution_count": 87,
   "id": "1c312a01-5db7-477a-b2b3-b50b7c1e9f56",
   "metadata": {},
   "outputs": [
    {
     "name": "stdout",
     "output_type": "stream",
     "text": [
      "a    0.25\n",
      "c    0.32\n",
      "dtype: float64\n"
     ]
    }
   ],
   "source": [
    "print(data[['a','c']])"
   ]
  },
  {
   "cell_type": "markdown",
   "id": "31d77ca3-0544-450f-820f-86549ece8521",
   "metadata": {},
   "source": [
    "## Data Selection in DataFrame\n",
    "\n",
    "**DataFrame Introduction**\n",
    "  \n",
    "A DataFrame is a two-dimensional, size-mutable, potentially heterogeneous tabular data. \\\n",
    "It has labeled axes (rows and columns)."
   ]
  },
  {
   "cell_type": "code",
   "execution_count": 103,
   "id": "650d878d-d67c-4522-be38-007fe8cc6f01",
   "metadata": {},
   "outputs": [
    {
     "name": "stdout",
     "output_type": "stream",
     "text": [
      "         area  population\n",
      "0  California    38332521\n",
      "1       Texas    26448193\n",
      "2    New York    19651127\n"
     ]
    }
   ],
   "source": [
    "import pandas as pd\n",
    "\n",
    "data = pd.DataFrame({'area': ['California', 'Texas', 'New York'],\n",
    "                     'population': [38332521, 26448193, 19651127]})\n",
    "print(data)"
   ]
  },
  {
   "cell_type": "markdown",
   "id": "31a82a5a-ff91-4314-ab1d-dc685cff01b3",
   "metadata": {},
   "source": [
    "#### **Column Selection**\n",
    "  \n",
    "Select columns by name"
   ]
  },
  {
   "cell_type": "code",
   "execution_count": 106,
   "id": "8d780e99-2aef-4996-8d63-4302567288c1",
   "metadata": {},
   "outputs": [
    {
     "name": "stdout",
     "output_type": "stream",
     "text": [
      "0    California\n",
      "1         Texas\n",
      "2      New York\n",
      "Name: area, dtype: object\n"
     ]
    }
   ],
   "source": [
    "print(data['area'])"
   ]
  },
  {
   "cell_type": "markdown",
   "id": "bcfcb40f-08d6-4d9f-9e4b-9e19ca3a9d1a",
   "metadata": {},
   "source": [
    "#### **Row Selection**\n",
    "\n",
    "Use `.iloc` for row selection by numerical index:\n",
    "  \n",
    "  "
   ]
  },
  {
   "cell_type": "code",
   "execution_count": 110,
   "id": "54af7ed8-a8f1-4814-9128-6f1707815e5c",
   "metadata": {},
   "outputs": [
    {
     "name": "stdout",
     "output_type": "stream",
     "text": [
      "area          California\n",
      "population      38332521\n",
      "Name: 0, dtype: object\n"
     ]
    }
   ],
   "source": [
    "print(data.iloc[0])"
   ]
  },
  {
   "cell_type": "markdown",
   "id": "b9ee60f2-5a0c-4d87-885c-c67a319f719d",
   "metadata": {},
   "source": [
    "#### **Conditional Selection**\n",
    "\n",
    "Use conditions to select rows:\n",
    "\n",
    "  "
   ]
  },
  {
   "cell_type": "code",
   "execution_count": 118,
   "id": "415d634d-454f-4887-ae92-6fdaacbc48de",
   "metadata": {},
   "outputs": [
    {
     "name": "stdout",
     "output_type": "stream",
     "text": [
      "         area  population\n",
      "0  California    38332521\n",
      "1       Texas    26448193\n"
     ]
    }
   ],
   "source": [
    "print(data[data['population'] > 20000000])"
   ]
  },
  {
   "cell_type": "markdown",
   "id": "90130d72-1d11-48c0-8b37-6665ab198b92",
   "metadata": {},
   "source": [
    "#### **Combined Indexing**\n",
    "\n",
    "Combine masking and fancy indexing\n",
    "\n"
   ]
  },
  {
   "cell_type": "code",
   "execution_count": 122,
   "id": "29438e87-f07c-4163-80f7-41cd224df07b",
   "metadata": {},
   "outputs": [
    {
     "name": "stdout",
     "output_type": "stream",
     "text": [
      "                 pop  density\n",
      "California  38332521    241.7\n",
      "Texas       26448193    105.2\n",
      "New York    19651127    411.2\n"
     ]
    }
   ],
   "source": [
    "data = pd.DataFrame({'pop': [38332521, 26448193, 19651127],\n",
    "                     'density': [241.7, 105.2, 411.2]},\n",
    "                    index=['California', 'Texas', 'New York'])\n",
    "\n",
    "print(data.loc[data.density > 100, ['pop', 'density']])"
   ]
  },
  {
   "cell_type": "markdown",
   "id": "d839c56a-b26d-4d95-997c-408081474ae1",
   "metadata": {},
   "source": [
    "####  **Setting Values**\n",
    "\n",
    "Modify values using `.iloc`:\n",
    " \n",
    "  "
   ]
  },
  {
   "cell_type": "code",
   "execution_count": 140,
   "id": "ebb3d5d6-d0fe-40cd-ba01-87f19eba4c5f",
   "metadata": {},
   "outputs": [
    {
     "name": "stdout",
     "output_type": "stream",
     "text": [
      "                 pop  density\n",
      "California  38332521    250.0\n",
      "Texas       26448193    105.2\n",
      "New York    19651127    411.2\n"
     ]
    }
   ],
   "source": [
    "data.iloc[0, 1] = 250.0\n",
    "print(data)"
   ]
  },
  {
   "cell_type": "markdown",
   "id": "493a4ba9-66e9-4722-bbb3-cfd9b9e0c05c",
   "metadata": {},
   "source": [
    "\n",
    "#### **Additional Indexing Conventions**\n",
    "- Slicing for rows:\n",
    "\n",
    "  "
   ]
  },
  {
   "cell_type": "code",
   "execution_count": 132,
   "id": "60f6fd6a-da57-433f-ac4e-5d845dbae0d1",
   "metadata": {},
   "outputs": [
    {
     "name": "stdout",
     "output_type": "stream",
     "text": [
      "                 pop  density\n",
      "California  38332521    241.7\n",
      "Texas       26448193    105.2\n",
      "New York    19651127    411.2\n"
     ]
    }
   ],
   "source": [
    "print(data['California':'New York'])\n"
   ]
  },
  {
   "cell_type": "markdown",
   "id": "a447ad47-4caa-4874-a630-70650fbce780",
   "metadata": {},
   "source": [
    "\n",
    "- Masking for rows:\n"
   ]
  },
  {
   "cell_type": "code",
   "execution_count": 146,
   "id": "3b5f9098-2b6e-4857-997e-0942b15b126a",
   "metadata": {},
   "outputs": [
    {
     "name": "stdout",
     "output_type": "stream",
     "text": [
      "                 pop  density\n",
      "California  38332521    250.0\n",
      "Texas       26448193    105.2\n",
      "New York    19651127    411.2\n"
     ]
    }
   ],
   "source": [
    "print(data[data.density > 100])"
   ]
  }
 ],
 "metadata": {
  "kernelspec": {
   "display_name": "Python 3 (ipykernel)",
   "language": "python",
   "name": "python3"
  },
  "language_info": {
   "codemirror_mode": {
    "name": "ipython",
    "version": 3
   },
   "file_extension": ".py",
   "mimetype": "text/x-python",
   "name": "python",
   "nbconvert_exporter": "python",
   "pygments_lexer": "ipython3",
   "version": "3.12.4"
  }
 },
 "nbformat": 4,
 "nbformat_minor": 5
}
