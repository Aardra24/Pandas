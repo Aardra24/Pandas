{
 "cells": [
  {
   "cell_type": "markdown",
   "id": "80a4b9f8-f4c6-4419-b632-643a94c9894d",
   "metadata": {},
   "source": [
    "## Introduction to Pandas Operations\n",
    "\n",
    "Pandas inherits many functionalities from NumPy, allowing quick element-wise operations. It preserves index and column labels and aligns indices automatically during operations."
   ]
  },
  {
   "cell_type": "markdown",
   "id": "b49257f5-96fe-4b93-9a9a-202015a1727a",
   "metadata": {},
   "source": [
    "**1. Creating Series and DataFrames**"
   ]
  },
  {
   "cell_type": "markdown",
   "id": "0b36ba06-78ea-44d1-88c9-f7e57e3214ad",
   "metadata": {},
   "source": [
    "**Series**"
   ]
  },
  {
   "cell_type": "code",
   "execution_count": 8,
   "id": "afdb2a58-82f7-40ba-8691-2ccea0d1f522",
   "metadata": {},
   "outputs": [],
   "source": [
    "import pandas as pd\n",
    "import numpy as np"
   ]
  },
  {
   "cell_type": "code",
   "execution_count": 9,
   "id": "b756cd68-5287-4e33-8724-784aba1feb83",
   "metadata": {},
   "outputs": [
    {
     "data": {
      "text/plain": [
       "0    7\n",
       "1    4\n",
       "2    8\n",
       "dtype: int32"
      ]
     },
     "execution_count": 9,
     "metadata": {},
     "output_type": "execute_result"
    }
   ],
   "source": [
    "rng = np.random.RandomState(42)\n",
    "ser = pd.Series(rng.randint(1,10,3))\n",
    "ser"
   ]
  },
  {
   "cell_type": "markdown",
   "id": "c81ced1b-2309-4fe9-afe0-99ed67c703db",
   "metadata": {},
   "source": [
    "**DataFrame**"
   ]
  },
  {
   "cell_type": "code",
   "execution_count": 11,
   "id": "2e8647dc-40a8-4daf-8b5d-3fa0550ef9a7",
   "metadata": {},
   "outputs": [
    {
     "name": "stdout",
     "output_type": "stream",
     "text": [
      "   A  B  C  D\n",
      "0  5  7  3  7\n",
      "1  8  5  4  8\n",
      "2  8  3  6  5\n"
     ]
    }
   ],
   "source": [
    "df = pd.DataFrame(rng.randint(1,10,(3,4)), columns = ['A','B','C','D'])\n",
    "print(df)"
   ]
  },
  {
   "cell_type": "markdown",
   "id": "cf583853-0d01-4d74-ba3c-27ae07a15e35",
   "metadata": {},
   "source": [
    "## Universal Functions (Ufuncs)\n",
    "\n",
    "Ufuncs allow element-wise operations like addition, multiplication, trigonometric functions, etc."
   ]
  },
  {
   "cell_type": "code",
   "execution_count": 13,
   "id": "db40120f-643d-489f-b4ad-beade4b9c068",
   "metadata": {},
   "outputs": [
    {
     "data": {
      "text/plain": [
       "0    1096.633158\n",
       "1      54.598150\n",
       "2    2980.957987\n",
       "dtype: float64"
      ]
     },
     "execution_count": 13,
     "metadata": {},
     "output_type": "execute_result"
    }
   ],
   "source": [
    "np.exp(ser)"
   ]
  },
  {
   "cell_type": "code",
   "execution_count": 14,
   "id": "88874f24-9d58-4dc3-8e86-a00f9b198530",
   "metadata": {},
   "outputs": [
    {
     "data": {
      "text/html": [
       "<div>\n",
       "<style scoped>\n",
       "    .dataframe tbody tr th:only-of-type {\n",
       "        vertical-align: middle;\n",
       "    }\n",
       "\n",
       "    .dataframe tbody tr th {\n",
       "        vertical-align: top;\n",
       "    }\n",
       "\n",
       "    .dataframe thead th {\n",
       "        text-align: right;\n",
       "    }\n",
       "</style>\n",
       "<table border=\"1\" class=\"dataframe\">\n",
       "  <thead>\n",
       "    <tr style=\"text-align: right;\">\n",
       "      <th></th>\n",
       "      <th>A</th>\n",
       "      <th>B</th>\n",
       "      <th>C</th>\n",
       "      <th>D</th>\n",
       "    </tr>\n",
       "  </thead>\n",
       "  <tbody>\n",
       "    <tr>\n",
       "      <th>0</th>\n",
       "      <td>-7.071068e-01</td>\n",
       "      <td>-0.707107</td>\n",
       "      <td>7.071068e-01</td>\n",
       "      <td>-7.071068e-01</td>\n",
       "    </tr>\n",
       "    <tr>\n",
       "      <th>1</th>\n",
       "      <td>-2.449294e-16</td>\n",
       "      <td>-0.707107</td>\n",
       "      <td>1.224647e-16</td>\n",
       "      <td>-2.449294e-16</td>\n",
       "    </tr>\n",
       "    <tr>\n",
       "      <th>2</th>\n",
       "      <td>-2.449294e-16</td>\n",
       "      <td>0.707107</td>\n",
       "      <td>-1.000000e+00</td>\n",
       "      <td>-7.071068e-01</td>\n",
       "    </tr>\n",
       "  </tbody>\n",
       "</table>\n",
       "</div>"
      ],
      "text/plain": [
       "              A         B             C             D\n",
       "0 -7.071068e-01 -0.707107  7.071068e-01 -7.071068e-01\n",
       "1 -2.449294e-16 -0.707107  1.224647e-16 -2.449294e-16\n",
       "2 -2.449294e-16  0.707107 -1.000000e+00 -7.071068e-01"
      ]
     },
     "execution_count": 14,
     "metadata": {},
     "output_type": "execute_result"
    }
   ],
   "source": [
    "np.sin(df*np.pi/4)"
   ]
  },
  {
   "cell_type": "code",
   "execution_count": 15,
   "id": "5c5d4021-2834-431e-95ff-547b494d9937",
   "metadata": {},
   "outputs": [
    {
     "name": "stdout",
     "output_type": "stream",
     "text": [
      "   A  B  C  D\n",
      "0  0  0  0  0\n",
      "1  3 -2  1  1\n",
      "2  3 -4  3 -2\n"
     ]
    }
   ],
   "source": [
    "df = (df - df.iloc[0])\n",
    "print(df)"
   ]
  },
  {
   "cell_type": "markdown",
   "id": "0096c815-3ff6-4f9f-8e24-7bcf35732420",
   "metadata": {},
   "source": [
    "## Ufuncs: Index Alignment\n",
    "\n",
    "For binary operations on two `Series` or `DataFrame` objects, Pandas will align indices in the process of performing the operation.\n",
    "This is very convenient when working with incomplete data, as we'll see in some of the examples that follow."
   ]
  },
  {
   "cell_type": "code",
   "execution_count": 27,
   "id": "0ab8ac95-b812-4d0b-bef5-9a8a5875f8ee",
   "metadata": {},
   "outputs": [],
   "source": [
    "area = pd.Series({'Alaska': 1723337, 'Texas': 695662,\n",
    "                  'California': 423967}, name='area')\n",
    "population = pd.Series({'California': 39538223, 'Texas': 29145505,\n",
    "                        'Florida': 21538187}, name='population')"
   ]
  },
  {
   "cell_type": "code",
   "execution_count": 57,
   "id": "a1aacba5-d945-479f-801d-ba79f519643d",
   "metadata": {},
   "outputs": [
    {
     "data": {
      "text/plain": [
       "Alaska        1723337\n",
       "Texas          695662\n",
       "California     423967\n",
       "Name: area, dtype: int64"
      ]
     },
     "execution_count": 57,
     "metadata": {},
     "output_type": "execute_result"
    }
   ],
   "source": [
    "area"
   ]
  },
  {
   "cell_type": "code",
   "execution_count": 59,
   "id": "29ce3232-eaab-4771-93b1-bc07a682c41d",
   "metadata": {},
   "outputs": [
    {
     "data": {
      "text/plain": [
       "California    39538223\n",
       "Texas         29145505\n",
       "Florida       21538187\n",
       "Name: population, dtype: int64"
      ]
     },
     "execution_count": 59,
     "metadata": {},
     "output_type": "execute_result"
    }
   ],
   "source": [
    "population"
   ]
  },
  {
   "cell_type": "code",
   "execution_count": 35,
   "id": "3672249c-f258-4c37-82ef-cb109a6ce0a7",
   "metadata": {},
   "outputs": [
    {
     "data": {
      "text/plain": [
       "Alaska              NaN\n",
       "California    93.257784\n",
       "Florida             NaN\n",
       "Texas         41.896072\n",
       "dtype: float64"
      ]
     },
     "execution_count": 35,
     "metadata": {},
     "output_type": "execute_result"
    }
   ],
   "source": [
    "population/area"
   ]
  },
  {
   "cell_type": "code",
   "execution_count": 65,
   "id": "dbf5f2e7-c53c-459a-b626-868bc7211f8a",
   "metadata": {},
   "outputs": [
    {
     "data": {
      "text/plain": [
       "Index(['Alaska', 'California', 'Florida', 'Texas'], dtype='object')"
      ]
     },
     "execution_count": 65,
     "metadata": {},
     "output_type": "execute_result"
    }
   ],
   "source": [
    "area.index.union(population.index)"
   ]
  },
  {
   "cell_type": "code",
   "execution_count": 53,
   "id": "e3a4e670-d258-433f-b491-464b41dec24b",
   "metadata": {},
   "outputs": [
    {
     "name": "stdout",
     "output_type": "stream",
     "text": [
      "0    2\n",
      "1    4\n",
      "2    6\n",
      "dtype: int64\n",
      "1    1\n",
      "2    3\n",
      "3    5\n",
      "dtype: int64\n"
     ]
    },
    {
     "data": {
      "text/plain": [
       "0    NaN\n",
       "1    5.0\n",
       "2    9.0\n",
       "3    NaN\n",
       "dtype: float64"
      ]
     },
     "execution_count": 53,
     "metadata": {},
     "output_type": "execute_result"
    }
   ],
   "source": [
    "A = pd.Series([2,4,6],index=[0,1,2])\n",
    "B = pd.Series([1,3,5],index=[1,2,3])\n",
    "print(A)\n",
    "print(B)\n",
    "A+B"
   ]
  },
  {
   "cell_type": "markdown",
   "id": "9a483f81-aeee-402c-a51e-fef4548894b7",
   "metadata": {},
   "source": [
    "`NaN / none gives errors` so we need to replace and the add or do any mathematical operations so that we get a result withot error"
   ]
  },
  {
   "cell_type": "code",
   "execution_count": 55,
   "id": "d1d5cdf8-37a7-4c9b-ab93-e111d4c375a7",
   "metadata": {},
   "outputs": [
    {
     "data": {
      "text/plain": [
       "0    2.0\n",
       "1    5.0\n",
       "2    9.0\n",
       "3    5.0\n",
       "dtype: float64"
      ]
     },
     "execution_count": 55,
     "metadata": {},
     "output_type": "execute_result"
    }
   ],
   "source": [
    "A.add(B,fill_value=0)"
   ]
  },
  {
   "cell_type": "code",
   "execution_count": null,
   "id": "514b1a43-5f16-41b0-98c2-d2eb6bed8340",
   "metadata": {},
   "outputs": [],
   "source": []
  },
  {
   "cell_type": "code",
   "execution_count": null,
   "id": "b3263216-7729-419a-a4bf-9b7ff3f25491",
   "metadata": {},
   "outputs": [],
   "source": []
  },
  {
   "cell_type": "code",
   "execution_count": null,
   "id": "8a736c03-fea8-41c2-810d-dda478c42f16",
   "metadata": {},
   "outputs": [],
   "source": []
  },
  {
   "cell_type": "code",
   "execution_count": null,
   "id": "7d1e55cf-ea43-48f8-934a-ed98ced7d26f",
   "metadata": {},
   "outputs": [],
   "source": []
  },
  {
   "cell_type": "code",
   "execution_count": null,
   "id": "0696766e-fb68-4ad0-864c-c9160d330438",
   "metadata": {},
   "outputs": [],
   "source": []
  }
 ],
 "metadata": {
  "kernelspec": {
   "display_name": "Python 3 (ipykernel)",
   "language": "python",
   "name": "python3"
  },
  "language_info": {
   "codemirror_mode": {
    "name": "ipython",
    "version": 3
   },
   "file_extension": ".py",
   "mimetype": "text/x-python",
   "name": "python",
   "nbconvert_exporter": "python",
   "pygments_lexer": "ipython3",
   "version": "3.12.4"
  }
 },
 "nbformat": 4,
 "nbformat_minor": 5
}
