{
 "cells": [
  {
   "cell_type": "markdown",
   "id": "51085d77-19ff-497c-9783-5b426971a109",
   "metadata": {},
   "source": [
    "### Hierarchical Indexing (MultiIndex)\n",
    "\n",
    "Hierarchical indexing (or multi-indexing) allows you to have multiple levels of indexing in your data, which can be useful when you have data that spans multiple dimensions. It’s like having a detailed table where rows and columns can be labeled with more than one key.\n",
    "\n"
   ]
  },
  {
   "cell_type": "markdown",
   "id": "ab76929e-f090-4f18-bb24-a7ee8d3f193a",
   "metadata": {},
   "source": [
    "**Creating a MultiIndex Series**"
   ]
  },
  {
   "cell_type": "code",
   "execution_count": 5,
   "id": "d5442d61-36ca-4016-ba23-130d49ae5232",
   "metadata": {},
   "outputs": [
    {
     "name": "stdout",
     "output_type": "stream",
     "text": [
      "California  2000    33871648\n",
      "            2010    37253956\n",
      "New York    2000    18976457\n",
      "            2010    19378102\n",
      "Texas       2000    20851820\n",
      "            2010    25145561\n",
      "dtype: int64\n"
     ]
    }
   ],
   "source": [
    "import pandas as pd\n",
    "\n",
    "index = [('California', 2000), ('California', 2010),\n",
    "         ('New York', 2000), ('New York', 2010),\n",
    "         ('Texas', 2000), ('Texas', 2010)]\n",
    "populations = [33871648, 37253956, 18976457, 19378102, 20851820, 25145561]\n",
    "\n",
    "ser = pd.Series(populations, index=pd.MultiIndex.from_tuples(index))\n",
    "print(ser)"
   ]
  },
  {
   "cell_type": "code",
   "execution_count": 6,
   "id": "a32c22f4-1adb-48a6-afbc-749037837c89",
   "metadata": {},
   "outputs": [
    {
     "name": "stdout",
     "output_type": "stream",
     "text": [
      "California    37253956\n",
      "New York      19378102\n",
      "Texas         25145561\n",
      "dtype: int64\n"
     ]
    }
   ],
   "source": [
    "print(ser[:, 2010])"
   ]
  },
  {
   "cell_type": "markdown",
   "id": "e941aa8b-52c8-4a95-b810-ab86b39549cc",
   "metadata": {},
   "source": [
    "**Converting to DataFrame**\n",
    "\n",
    "If you have a Series with a MultiIndex, you can convert it into a DataFrame:"
   ]
  },
  {
   "cell_type": "code",
   "execution_count": 8,
   "id": "7f3d49b1-bf66-45d0-9120-4e478e9b9bb8",
   "metadata": {},
   "outputs": [
    {
     "data": {
      "text/html": [
       "<div>\n",
       "<style scoped>\n",
       "    .dataframe tbody tr th:only-of-type {\n",
       "        vertical-align: middle;\n",
       "    }\n",
       "\n",
       "    .dataframe tbody tr th {\n",
       "        vertical-align: top;\n",
       "    }\n",
       "\n",
       "    .dataframe thead th {\n",
       "        text-align: right;\n",
       "    }\n",
       "</style>\n",
       "<table border=\"1\" class=\"dataframe\">\n",
       "  <thead>\n",
       "    <tr style=\"text-align: right;\">\n",
       "      <th></th>\n",
       "      <th>2000</th>\n",
       "      <th>2010</th>\n",
       "    </tr>\n",
       "  </thead>\n",
       "  <tbody>\n",
       "    <tr>\n",
       "      <th>California</th>\n",
       "      <td>33871648</td>\n",
       "      <td>37253956</td>\n",
       "    </tr>\n",
       "    <tr>\n",
       "      <th>New York</th>\n",
       "      <td>18976457</td>\n",
       "      <td>19378102</td>\n",
       "    </tr>\n",
       "    <tr>\n",
       "      <th>Texas</th>\n",
       "      <td>20851820</td>\n",
       "      <td>25145561</td>\n",
       "    </tr>\n",
       "  </tbody>\n",
       "</table>\n",
       "</div>"
      ],
      "text/plain": [
       "                2000      2010\n",
       "California  33871648  37253956\n",
       "New York    18976457  19378102\n",
       "Texas       20851820  25145561"
      ]
     },
     "execution_count": 8,
     "metadata": {},
     "output_type": "execute_result"
    }
   ],
   "source": [
    "df = ser.unstack()\n",
    "df"
   ]
  },
  {
   "cell_type": "markdown",
   "id": "04277567-8334-4505-b73e-ff46cbb1d52e",
   "metadata": {},
   "source": [
    "**Hierarchical Indexing in DataFrames**\n",
    "\n",
    "You can also use hierarchical indexing for columns in a DataFrame. "
   ]
  },
  {
   "cell_type": "code",
   "execution_count": 10,
   "id": "3044461d-8cf9-4772-abb8-f6db12d84a22",
   "metadata": {},
   "outputs": [
    {
     "data": {
      "text/html": [
       "<div>\n",
       "<style scoped>\n",
       "    .dataframe tbody tr th:only-of-type {\n",
       "        vertical-align: middle;\n",
       "    }\n",
       "\n",
       "    .dataframe tbody tr th {\n",
       "        vertical-align: top;\n",
       "    }\n",
       "\n",
       "    .dataframe thead tr th {\n",
       "        text-align: left;\n",
       "    }\n",
       "\n",
       "    .dataframe thead tr:last-of-type th {\n",
       "        text-align: right;\n",
       "    }\n",
       "</style>\n",
       "<table border=\"1\" class=\"dataframe\">\n",
       "  <thead>\n",
       "    <tr>\n",
       "      <th></th>\n",
       "      <th>sub</th>\n",
       "      <th colspan=\"2\" halign=\"left\">bob</th>\n",
       "      <th colspan=\"2\" halign=\"left\">Guido</th>\n",
       "      <th colspan=\"2\" halign=\"left\">sue</th>\n",
       "    </tr>\n",
       "    <tr>\n",
       "      <th></th>\n",
       "      <th>type</th>\n",
       "      <th>HR</th>\n",
       "      <th>Temp</th>\n",
       "      <th>HR</th>\n",
       "      <th>Temp</th>\n",
       "      <th>HR</th>\n",
       "      <th>Temp</th>\n",
       "    </tr>\n",
       "    <tr>\n",
       "      <th>year</th>\n",
       "      <th>visit</th>\n",
       "      <th></th>\n",
       "      <th></th>\n",
       "      <th></th>\n",
       "      <th></th>\n",
       "      <th></th>\n",
       "      <th></th>\n",
       "    </tr>\n",
       "  </thead>\n",
       "  <tbody>\n",
       "    <tr>\n",
       "      <th rowspan=\"2\" valign=\"top\">2013</th>\n",
       "      <th>1</th>\n",
       "      <td>-1.143955</td>\n",
       "      <td>-0.980032</td>\n",
       "      <td>0.264334</td>\n",
       "      <td>0.470696</td>\n",
       "      <td>0.748326</td>\n",
       "      <td>0.764108</td>\n",
       "    </tr>\n",
       "    <tr>\n",
       "      <th>2</th>\n",
       "      <td>0.667441</td>\n",
       "      <td>0.288365</td>\n",
       "      <td>0.830246</td>\n",
       "      <td>-0.442187</td>\n",
       "      <td>-0.533509</td>\n",
       "      <td>0.578847</td>\n",
       "    </tr>\n",
       "    <tr>\n",
       "      <th rowspan=\"2\" valign=\"top\">2014</th>\n",
       "      <th>1</th>\n",
       "      <td>1.557238</td>\n",
       "      <td>3.079650</td>\n",
       "      <td>-0.824658</td>\n",
       "      <td>-2.410613</td>\n",
       "      <td>-0.531753</td>\n",
       "      <td>-0.153471</td>\n",
       "    </tr>\n",
       "    <tr>\n",
       "      <th>2</th>\n",
       "      <td>0.538263</td>\n",
       "      <td>-1.112599</td>\n",
       "      <td>-0.025772</td>\n",
       "      <td>-1.239840</td>\n",
       "      <td>0.079620</td>\n",
       "      <td>-1.294907</td>\n",
       "    </tr>\n",
       "  </tbody>\n",
       "</table>\n",
       "</div>"
      ],
      "text/plain": [
       "sub              bob               Guido                 sue          \n",
       "type              HR      Temp        HR      Temp        HR      Temp\n",
       "year visit                                                            \n",
       "2013 1     -1.143955 -0.980032  0.264334  0.470696  0.748326  0.764108\n",
       "     2      0.667441  0.288365  0.830246 -0.442187 -0.533509  0.578847\n",
       "2014 1      1.557238  3.079650 -0.824658 -2.410613 -0.531753 -0.153471\n",
       "     2      0.538263 -1.112599 -0.025772 -1.239840  0.079620 -1.294907"
      ]
     },
     "execution_count": 10,
     "metadata": {},
     "output_type": "execute_result"
    }
   ],
   "source": [
    "import pandas as pd\n",
    "import numpy as np\n",
    "index = pd.MultiIndex.from_product([[2013,2014],[1,2]],names = ['year','visit'])\n",
    "columns = pd.MultiIndex.from_product([['bob','Guido','sue'],['HR','Temp']], names = ['sub','type'])\n",
    "data = np.random.randn(4,6)\n",
    "Health_data = pd.DataFrame(data,index=index,columns=columns)\n",
    "Health_data"
   ]
  },
  {
   "cell_type": "markdown",
   "id": "1a1829b2-f453-47fd-a1e1-be634c469e8c",
   "metadata": {},
   "source": [
    "**Accessing MultiIndex DataFrame**\n",
    "\n",
    "To access specific data, such as all measurements for 'Guido':"
   ]
  },
  {
   "cell_type": "code",
   "execution_count": 12,
   "id": "431699f8-aa14-4b8c-b9cd-4a235e44e1f1",
   "metadata": {},
   "outputs": [
    {
     "name": "stdout",
     "output_type": "stream",
     "text": [
      "type              HR      Temp\n",
      "year visit                    \n",
      "2013 1      0.264334  0.470696\n",
      "     2      0.830246 -0.442187\n",
      "2014 1     -0.824658 -2.410613\n",
      "     2     -0.025772 -1.239840\n"
     ]
    }
   ],
   "source": [
    "print(Health_data['Guido'])"
   ]
  },
  {
   "cell_type": "markdown",
   "id": "fd095366-e40f-41a8-8ca7-c5a229df78af",
   "metadata": {},
   "source": [
    "## **Indexing and Slicing a MultiIndex**"
   ]
  },
  {
   "cell_type": "markdown",
   "id": "58a7f273-29ce-4c38-8fc9-2aca1161a607",
   "metadata": {},
   "source": [
    "### **Indexing a MultiIndex Series**"
   ]
  },
  {
   "cell_type": "code",
   "execution_count": 15,
   "id": "1106bc62-9982-4a6f-9059-a2733e273954",
   "metadata": {},
   "outputs": [
    {
     "data": {
      "text/plain": [
       "California  2000    33871648\n",
       "            2010    37253956\n",
       "New York    2000    18976457\n",
       "            2010    19378102\n",
       "Texas       2000    20851820\n",
       "            2010    25145561\n",
       "dtype: int64"
      ]
     },
     "execution_count": 15,
     "metadata": {},
     "output_type": "execute_result"
    }
   ],
   "source": [
    "index = [('California',2000),('California',2010),('New York',2000),('New York',2010),('Texas',2000),('Texas',2010)]\n",
    "Populations = [33871648, 37253956, 18976457, 19378102, 20851820, 25145561]\n",
    "ser = pd.Series(Populations,index=pd.MultiIndex.from_tuples(index))\n",
    "ser"
   ]
  },
  {
   "cell_type": "markdown",
   "id": "cbf6cca2-0354-463e-9eb8-feaf67ea41c0",
   "metadata": {},
   "source": [
    "**Access a Single element**"
   ]
  },
  {
   "cell_type": "code",
   "execution_count": 17,
   "id": "c25f54ef-ab3b-4814-b9a5-aa2f28763a2b",
   "metadata": {},
   "outputs": [
    {
     "name": "stdout",
     "output_type": "stream",
     "text": [
      "33871648\n"
     ]
    }
   ],
   "source": [
    "print(ser['California',2000])"
   ]
  },
  {
   "cell_type": "markdown",
   "id": "07851356-1d4c-4c40-ab3d-437e8b9185aa",
   "metadata": {},
   "source": [
    "**Partial Indexing**"
   ]
  },
  {
   "cell_type": "code",
   "execution_count": 19,
   "id": "618ec27a-c97e-4e4b-9c93-b4d556f272a5",
   "metadata": {},
   "outputs": [
    {
     "name": "stdout",
     "output_type": "stream",
     "text": [
      "2000    33871648\n",
      "2010    37253956\n",
      "dtype: int64\n"
     ]
    }
   ],
   "source": [
    "print(ser['California'])"
   ]
  },
  {
   "cell_type": "markdown",
   "id": "886dd6eb-a240-4e2e-881b-852758058b45",
   "metadata": {},
   "source": [
    "**Partial Slicing**"
   ]
  },
  {
   "cell_type": "code",
   "execution_count": 21,
   "id": "0815e479-f529-4f94-8a0b-e474f9ec33e4",
   "metadata": {},
   "outputs": [
    {
     "name": "stdout",
     "output_type": "stream",
     "text": [
      "California  2000    33871648\n",
      "            2010    37253956\n",
      "New York    2000    18976457\n",
      "            2010    19378102\n",
      "dtype: int64\n"
     ]
    }
   ],
   "source": [
    "print(ser['California':'New York'])"
   ]
  },
  {
   "cell_type": "markdown",
   "id": "f45a7a4d-dd91-4a4b-9ae5-fad3627d009d",
   "metadata": {},
   "source": [
    "**Indexing on One Level**"
   ]
  },
  {
   "cell_type": "code",
   "execution_count": 23,
   "id": "5d3c87f2-89aa-426e-a7fb-2733d22baff0",
   "metadata": {},
   "outputs": [
    {
     "name": "stdout",
     "output_type": "stream",
     "text": [
      "California    33871648\n",
      "New York      18976457\n",
      "Texas         20851820\n",
      "dtype: int64\n"
     ]
    }
   ],
   "source": [
    "print(ser.loc[:,2000])"
   ]
  },
  {
   "cell_type": "markdown",
   "id": "3a310298-e3ca-4348-ad7f-69131a5b6d61",
   "metadata": {},
   "source": [
    "**Boolean Indexing**"
   ]
  },
  {
   "cell_type": "code",
   "execution_count": 25,
   "id": "28726d6c-f721-40d3-b5fe-3c672759602b",
   "metadata": {},
   "outputs": [
    {
     "name": "stdout",
     "output_type": "stream",
     "text": [
      "California  2000    33871648\n",
      "            2010    37253956\n",
      "Texas       2000    20851820\n",
      "            2010    25145561\n",
      "dtype: int64\n"
     ]
    }
   ],
   "source": [
    "print(ser[ser>19378102])"
   ]
  },
  {
   "cell_type": "markdown",
   "id": "930c4401-724a-4135-bb8f-4a3d22205fc8",
   "metadata": {},
   "source": [
    "**Fancy Indexing**"
   ]
  },
  {
   "cell_type": "code",
   "execution_count": 27,
   "id": "e2bfdf44-17cd-4d23-9049-ce24ce4fda6c",
   "metadata": {},
   "outputs": [
    {
     "name": "stdout",
     "output_type": "stream",
     "text": [
      "California  2000    33871648\n",
      "            2010    37253956\n",
      "Texas       2000    20851820\n",
      "            2010    25145561\n",
      "New York    2000    18976457\n",
      "            2010    19378102\n",
      "dtype: int64\n"
     ]
    }
   ],
   "source": [
    "print(ser[['California','Texas','New York']])"
   ]
  },
  {
   "cell_type": "markdown",
   "id": "434082d7-add4-4dff-ba95-f3cde87f336b",
   "metadata": {},
   "source": [
    "### **Indexing a MultiIndex DataFrame**"
   ]
  },
  {
   "cell_type": "code",
   "execution_count": 29,
   "id": "36d8e60b-a870-4cb7-be68-1253c8c58d35",
   "metadata": {},
   "outputs": [
    {
     "data": {
      "text/html": [
       "<div>\n",
       "<style scoped>\n",
       "    .dataframe tbody tr th:only-of-type {\n",
       "        vertical-align: middle;\n",
       "    }\n",
       "\n",
       "    .dataframe tbody tr th {\n",
       "        vertical-align: top;\n",
       "    }\n",
       "\n",
       "    .dataframe thead tr th {\n",
       "        text-align: left;\n",
       "    }\n",
       "\n",
       "    .dataframe thead tr:last-of-type th {\n",
       "        text-align: right;\n",
       "    }\n",
       "</style>\n",
       "<table border=\"1\" class=\"dataframe\">\n",
       "  <thead>\n",
       "    <tr>\n",
       "      <th></th>\n",
       "      <th>sub</th>\n",
       "      <th colspan=\"2\" halign=\"left\">bob</th>\n",
       "      <th colspan=\"2\" halign=\"left\">Guido</th>\n",
       "      <th colspan=\"2\" halign=\"left\">sue</th>\n",
       "    </tr>\n",
       "    <tr>\n",
       "      <th></th>\n",
       "      <th>type</th>\n",
       "      <th>HR</th>\n",
       "      <th>Temp</th>\n",
       "      <th>HR</th>\n",
       "      <th>Temp</th>\n",
       "      <th>HR</th>\n",
       "      <th>Temp</th>\n",
       "    </tr>\n",
       "    <tr>\n",
       "      <th>year</th>\n",
       "      <th>visit</th>\n",
       "      <th></th>\n",
       "      <th></th>\n",
       "      <th></th>\n",
       "      <th></th>\n",
       "      <th></th>\n",
       "      <th></th>\n",
       "    </tr>\n",
       "  </thead>\n",
       "  <tbody>\n",
       "    <tr>\n",
       "      <th rowspan=\"2\" valign=\"top\">2013</th>\n",
       "      <th>1</th>\n",
       "      <td>-1.117818</td>\n",
       "      <td>-0.650210</td>\n",
       "      <td>-0.201580</td>\n",
       "      <td>1.369460</td>\n",
       "      <td>0.007284</td>\n",
       "      <td>0.010763</td>\n",
       "    </tr>\n",
       "    <tr>\n",
       "      <th>2</th>\n",
       "      <td>1.493510</td>\n",
       "      <td>0.649336</td>\n",
       "      <td>-1.626816</td>\n",
       "      <td>-0.714438</td>\n",
       "      <td>-1.490516</td>\n",
       "      <td>-0.381835</td>\n",
       "    </tr>\n",
       "    <tr>\n",
       "      <th rowspan=\"2\" valign=\"top\">2014</th>\n",
       "      <th>1</th>\n",
       "      <td>0.285451</td>\n",
       "      <td>-0.934666</td>\n",
       "      <td>1.790459</td>\n",
       "      <td>-1.257154</td>\n",
       "      <td>0.720913</td>\n",
       "      <td>1.044621</td>\n",
       "    </tr>\n",
       "    <tr>\n",
       "      <th>2</th>\n",
       "      <td>-1.631621</td>\n",
       "      <td>-1.257516</td>\n",
       "      <td>-1.096046</td>\n",
       "      <td>1.457608</td>\n",
       "      <td>-0.931205</td>\n",
       "      <td>1.042297</td>\n",
       "    </tr>\n",
       "  </tbody>\n",
       "</table>\n",
       "</div>"
      ],
      "text/plain": [
       "sub              bob               Guido                 sue          \n",
       "type              HR      Temp        HR      Temp        HR      Temp\n",
       "year visit                                                            \n",
       "2013 1     -1.117818 -0.650210 -0.201580  1.369460  0.007284  0.010763\n",
       "     2      1.493510  0.649336 -1.626816 -0.714438 -1.490516 -0.381835\n",
       "2014 1      0.285451 -0.934666  1.790459 -1.257154  0.720913  1.044621\n",
       "     2     -1.631621 -1.257516 -1.096046  1.457608 -0.931205  1.042297"
      ]
     },
     "execution_count": 29,
     "metadata": {},
     "output_type": "execute_result"
    }
   ],
   "source": [
    "import pandas as pd\n",
    "import numpy as np\n",
    "index = pd.MultiIndex.from_product([[2013,2014],[1,2]],names = ['year','visit'])\n",
    "columns = pd.MultiIndex.from_product([['bob','Guido','sue'],['HR','Temp']], names = ['sub','type'])\n",
    "data = np.random.randn(4,6)\n",
    "Health_data = pd.DataFrame(data,index=index,columns=columns)\n",
    "Health_data"
   ]
  },
  {
   "cell_type": "code",
   "execution_count": 30,
   "id": "a000e156-9cc9-4228-962f-529a2deb4beb",
   "metadata": {},
   "outputs": [
    {
     "name": "stdout",
     "output_type": "stream",
     "text": [
      "year  visit\n",
      "2013  1       -0.201580\n",
      "      2       -1.626816\n",
      "2014  1        1.790459\n",
      "      2       -1.096046\n",
      "Name: (Guido, HR), dtype: float64\n"
     ]
    }
   ],
   "source": [
    "print(Health_data['Guido','HR'])"
   ]
  },
  {
   "cell_type": "markdown",
   "id": "1ac2f056-1929-4db2-9cfa-955f5ccabe6b",
   "metadata": {},
   "source": [
    "**Using loc and iloc**"
   ]
  },
  {
   "cell_type": "code",
   "execution_count": 32,
   "id": "695dc14f-75e5-4116-bee1-940183a14cc0",
   "metadata": {},
   "outputs": [
    {
     "name": "stdout",
     "output_type": "stream",
     "text": [
      "year  visit\n",
      "2013  1       -1.117818\n",
      "      2        1.493510\n",
      "2014  1        0.285451\n",
      "      2       -1.631621\n",
      "Name: (bob, HR), dtype: float64\n"
     ]
    }
   ],
   "source": [
    "print(Health_data.loc[:,('bob','HR')])"
   ]
  },
  {
   "cell_type": "code",
   "execution_count": 33,
   "id": "336bc03d-bb72-4187-a0e9-812cedf13d9d",
   "metadata": {},
   "outputs": [
    {
     "name": "stdout",
     "output_type": "stream",
     "text": [
      "sub              bob          \n",
      "type              HR      Temp\n",
      "year visit                    \n",
      "2013 1     -1.117818 -0.650210\n",
      "     2      1.493510  0.649336\n",
      "2014 1      0.285451 -0.934666\n",
      "     2     -1.631621 -1.257516\n"
     ]
    }
   ],
   "source": [
    "print(Health_data.iloc[:4,:2])"
   ]
  },
  {
   "cell_type": "markdown",
   "id": "86523332-d8ee-427b-88da-f41f6613f75b",
   "metadata": {},
   "source": [
    "**Using IndexSlice for slicing**"
   ]
  },
  {
   "cell_type": "code",
   "execution_count": 35,
   "id": "e5b322cc-0333-4399-a78d-cb1fa94a0a7b",
   "metadata": {},
   "outputs": [
    {
     "name": "stdout",
     "output_type": "stream",
     "text": [
      "sub              bob     Guido       sue\n",
      "type              HR        HR        HR\n",
      "year visit                              \n",
      "2013 2      1.493510 -1.626816 -1.490516\n",
      "2014 2     -1.631621 -1.096046 -0.931205\n"
     ]
    }
   ],
   "source": [
    "idx = pd.IndexSlice\n",
    "print(Health_data.loc[idx[:,2],idx[:,'HR']])"
   ]
  },
  {
   "cell_type": "markdown",
   "id": "8230443b-ee07-4666-b0ec-b9e56be6681f",
   "metadata": {},
   "source": [
    "### **Rearranging MultiIndices**"
   ]
  },
  {
   "cell_type": "markdown",
   "id": "f70e6436-b479-4d2d-b0fd-a7e6b80ca462",
   "metadata": {},
   "source": [
    "**Sorting**"
   ]
  },
  {
   "cell_type": "code",
   "execution_count": 38,
   "id": "88575e3a-233e-4c96-b414-1c13771a2985",
   "metadata": {},
   "outputs": [
    {
     "data": {
      "text/plain": [
       "A  1    0.760746\n",
       "   2    0.954911\n",
       "D  1    0.713742\n",
       "   2    0.635071\n",
       "C  1    0.552057\n",
       "   2    0.571813\n",
       "dtype: float64"
      ]
     },
     "execution_count": 38,
     "metadata": {},
     "output_type": "execute_result"
    }
   ],
   "source": [
    "index = pd.MultiIndex.from_product([['A','D','C'],[1,2]])\n",
    "data = pd.Series(np.random.rand(6),index=index)\n",
    "data\n"
   ]
  },
  {
   "cell_type": "code",
   "execution_count": 39,
   "id": "35387796-ca9a-4a46-9b32-bdbfaf30cf16",
   "metadata": {},
   "outputs": [
    {
     "data": {
      "text/plain": [
       "A  1    0.760746\n",
       "   2    0.954911\n",
       "C  1    0.552057\n",
       "   2    0.571813\n",
       "D  1    0.713742\n",
       "   2    0.635071\n",
       "dtype: float64"
      ]
     },
     "execution_count": 39,
     "metadata": {},
     "output_type": "execute_result"
    }
   ],
   "source": [
    "sorted = data.sort_index()\n",
    "sorted"
   ]
  },
  {
   "cell_type": "markdown",
   "id": "8eff7b2b-b5dc-4d49-a870-65be9d7234db",
   "metadata": {},
   "source": [
    "**Partial Slicing After Sorting**"
   ]
  },
  {
   "cell_type": "code",
   "execution_count": 41,
   "id": "aa89c503-cf05-4c02-9fbb-5ec478de920b",
   "metadata": {},
   "outputs": [
    {
     "name": "stdout",
     "output_type": "stream",
     "text": [
      "A  1    0.760746\n",
      "   2    0.954911\n",
      "C  1    0.552057\n",
      "   2    0.571813\n",
      "dtype: float64\n"
     ]
    }
   ],
   "source": [
    "print(sorted['A':'C'])"
   ]
  },
  {
   "cell_type": "markdown",
   "id": "7ffcefce-19c0-45a7-9bba-e04ea5443602",
   "metadata": {},
   "source": [
    "**Stacking**"
   ]
  },
  {
   "cell_type": "code",
   "execution_count": 43,
   "id": "f80e2207-9078-4e6f-93a4-1dcb4873fa32",
   "metadata": {},
   "outputs": [
    {
     "data": {
      "text/html": [
       "<div>\n",
       "<style scoped>\n",
       "    .dataframe tbody tr th:only-of-type {\n",
       "        vertical-align: middle;\n",
       "    }\n",
       "\n",
       "    .dataframe tbody tr th {\n",
       "        vertical-align: top;\n",
       "    }\n",
       "\n",
       "    .dataframe thead th {\n",
       "        text-align: right;\n",
       "    }\n",
       "</style>\n",
       "<table border=\"1\" class=\"dataframe\">\n",
       "  <thead>\n",
       "    <tr style=\"text-align: right;\">\n",
       "      <th></th>\n",
       "      <th>California</th>\n",
       "      <th>New York</th>\n",
       "      <th>Texas</th>\n",
       "    </tr>\n",
       "  </thead>\n",
       "  <tbody>\n",
       "    <tr>\n",
       "      <th>2000</th>\n",
       "      <td>33871648</td>\n",
       "      <td>18976457</td>\n",
       "      <td>20851820</td>\n",
       "    </tr>\n",
       "    <tr>\n",
       "      <th>2010</th>\n",
       "      <td>37253956</td>\n",
       "      <td>19378102</td>\n",
       "      <td>25145561</td>\n",
       "    </tr>\n",
       "  </tbody>\n",
       "</table>\n",
       "</div>"
      ],
      "text/plain": [
       "      California  New York     Texas\n",
       "2000    33871648  18976457  20851820\n",
       "2010    37253956  19378102  25145561"
      ]
     },
     "execution_count": 43,
     "metadata": {},
     "output_type": "execute_result"
    }
   ],
   "source": [
    "unstack = ser.unstack(level =0)\n",
    "unstack"
   ]
  },
  {
   "cell_type": "code",
   "execution_count": 44,
   "id": "a506b3bd-87a8-4161-a2a2-d6c4b9118350",
   "metadata": {},
   "outputs": [
    {
     "data": {
      "text/html": [
       "<div>\n",
       "<style scoped>\n",
       "    .dataframe tbody tr th:only-of-type {\n",
       "        vertical-align: middle;\n",
       "    }\n",
       "\n",
       "    .dataframe tbody tr th {\n",
       "        vertical-align: top;\n",
       "    }\n",
       "\n",
       "    .dataframe thead th {\n",
       "        text-align: right;\n",
       "    }\n",
       "</style>\n",
       "<table border=\"1\" class=\"dataframe\">\n",
       "  <thead>\n",
       "    <tr style=\"text-align: right;\">\n",
       "      <th></th>\n",
       "      <th>2000</th>\n",
       "      <th>2010</th>\n",
       "    </tr>\n",
       "  </thead>\n",
       "  <tbody>\n",
       "    <tr>\n",
       "      <th>California</th>\n",
       "      <td>33871648</td>\n",
       "      <td>37253956</td>\n",
       "    </tr>\n",
       "    <tr>\n",
       "      <th>New York</th>\n",
       "      <td>18976457</td>\n",
       "      <td>19378102</td>\n",
       "    </tr>\n",
       "    <tr>\n",
       "      <th>Texas</th>\n",
       "      <td>20851820</td>\n",
       "      <td>25145561</td>\n",
       "    </tr>\n",
       "  </tbody>\n",
       "</table>\n",
       "</div>"
      ],
      "text/plain": [
       "                2000      2010\n",
       "California  33871648  37253956\n",
       "New York    18976457  19378102\n",
       "Texas       20851820  25145561"
      ]
     },
     "execution_count": 44,
     "metadata": {},
     "output_type": "execute_result"
    }
   ],
   "source": [
    "unstack = ser.unstack(level=1)\n",
    "unstack"
   ]
  },
  {
   "cell_type": "markdown",
   "id": "21710710-6375-4561-a042-13d8842fe65f",
   "metadata": {},
   "source": [
    "**Back to stack**"
   ]
  },
  {
   "cell_type": "code",
   "execution_count": 46,
   "id": "7cd99d7c-5402-49f4-9825-7c92a8a5fe6f",
   "metadata": {},
   "outputs": [
    {
     "data": {
      "text/plain": [
       "California  2000    33871648\n",
       "            2010    37253956\n",
       "New York    2000    18976457\n",
       "            2010    19378102\n",
       "Texas       2000    20851820\n",
       "            2010    25145561\n",
       "dtype: int64"
      ]
     },
     "execution_count": 46,
     "metadata": {},
     "output_type": "execute_result"
    }
   ],
   "source": [
    "stack = unstack.stack()\n",
    "stack"
   ]
  },
  {
   "cell_type": "markdown",
   "id": "28254858-8d90-48f1-bd58-368f65254b58",
   "metadata": {},
   "source": [
    "### **Data Aggregations on Multi-Indices**"
   ]
  },
  {
   "cell_type": "code",
   "execution_count": 48,
   "id": "97939666-03ff-4e4d-9604-c92673585aac",
   "metadata": {},
   "outputs": [
    {
     "data": {
      "text/html": [
       "<div>\n",
       "<style scoped>\n",
       "    .dataframe tbody tr th:only-of-type {\n",
       "        vertical-align: middle;\n",
       "    }\n",
       "\n",
       "    .dataframe tbody tr th {\n",
       "        vertical-align: top;\n",
       "    }\n",
       "\n",
       "    .dataframe thead th {\n",
       "        text-align: right;\n",
       "    }\n",
       "</style>\n",
       "<table border=\"1\" class=\"dataframe\">\n",
       "  <thead>\n",
       "    <tr style=\"text-align: right;\">\n",
       "      <th></th>\n",
       "      <th></th>\n",
       "      <th>Sales</th>\n",
       "    </tr>\n",
       "    <tr>\n",
       "      <th>Region</th>\n",
       "      <th>Month</th>\n",
       "      <th></th>\n",
       "    </tr>\n",
       "  </thead>\n",
       "  <tbody>\n",
       "    <tr>\n",
       "      <th rowspan=\"2\" valign=\"top\">North</th>\n",
       "      <th>Jan</th>\n",
       "      <td>200</td>\n",
       "    </tr>\n",
       "    <tr>\n",
       "      <th>Feb</th>\n",
       "      <td>220</td>\n",
       "    </tr>\n",
       "    <tr>\n",
       "      <th rowspan=\"2\" valign=\"top\">South</th>\n",
       "      <th>Jan</th>\n",
       "      <td>180</td>\n",
       "    </tr>\n",
       "    <tr>\n",
       "      <th>Feb</th>\n",
       "      <td>190</td>\n",
       "    </tr>\n",
       "    <tr>\n",
       "      <th rowspan=\"2\" valign=\"top\">East</th>\n",
       "      <th>Jan</th>\n",
       "      <td>210</td>\n",
       "    </tr>\n",
       "    <tr>\n",
       "      <th>Feb</th>\n",
       "      <td>230</td>\n",
       "    </tr>\n",
       "  </tbody>\n",
       "</table>\n",
       "</div>"
      ],
      "text/plain": [
       "              Sales\n",
       "Region Month       \n",
       "North  Jan      200\n",
       "       Feb      220\n",
       "South  Jan      180\n",
       "       Feb      190\n",
       "East   Jan      210\n",
       "       Feb      230"
      ]
     },
     "execution_count": 48,
     "metadata": {},
     "output_type": "execute_result"
    }
   ],
   "source": [
    "index = pd.MultiIndex.from_tuples([\n",
    "    ('North', 'Jan'), ('North', 'Feb'),\n",
    "    ('South', 'Jan'), ('South', 'Feb'),\n",
    "    ('East', 'Jan'), ('East', 'Feb')\n",
    "], names=['Region', 'Month'])\n",
    "\n",
    "sales_data = pd.DataFrame({\n",
    "    'Sales': [200, 220, 180, 190, 210, 230]\n",
    "}, index=index)\n",
    "\n",
    "sales_data"
   ]
  },
  {
   "cell_type": "code",
   "execution_count": 56,
   "id": "0df357d2-942b-4371-9e43-d749f5f33d9c",
   "metadata": {},
   "outputs": [
    {
     "ename": "TypeError",
     "evalue": "sum() got an unexpected keyword argument 'level'",
     "output_type": "error",
     "traceback": [
      "\u001b[1;31m---------------------------------------------------------------------------\u001b[0m",
      "\u001b[1;31mTypeError\u001b[0m                                 Traceback (most recent call last)",
      "Cell \u001b[1;32mIn[56], line 1\u001b[0m\n\u001b[1;32m----> 1\u001b[0m monthly_sales \u001b[38;5;241m=\u001b[39m sales_data\u001b[38;5;241m.\u001b[39msum(level \u001b[38;5;241m=\u001b[39m \u001b[38;5;124m'\u001b[39m\u001b[38;5;124mMonth\u001b[39m\u001b[38;5;124m'\u001b[39m)\n",
      "File \u001b[1;32m~\\anaconda3\\Lib\\site-packages\\pandas\\core\\frame.py:11670\u001b[0m, in \u001b[0;36mDataFrame.sum\u001b[1;34m(self, axis, skipna, numeric_only, min_count, **kwargs)\u001b[0m\n\u001b[0;32m  11661\u001b[0m \u001b[38;5;129m@doc\u001b[39m(make_doc(\u001b[38;5;124m\"\u001b[39m\u001b[38;5;124msum\u001b[39m\u001b[38;5;124m\"\u001b[39m, ndim\u001b[38;5;241m=\u001b[39m\u001b[38;5;241m2\u001b[39m))\n\u001b[0;32m  11662\u001b[0m \u001b[38;5;28;01mdef\u001b[39;00m \u001b[38;5;21msum\u001b[39m(\n\u001b[0;32m  11663\u001b[0m     \u001b[38;5;28mself\u001b[39m,\n\u001b[1;32m   (...)\u001b[0m\n\u001b[0;32m  11668\u001b[0m     \u001b[38;5;241m*\u001b[39m\u001b[38;5;241m*\u001b[39mkwargs,\n\u001b[0;32m  11669\u001b[0m ):\n\u001b[1;32m> 11670\u001b[0m     result \u001b[38;5;241m=\u001b[39m \u001b[38;5;28msuper\u001b[39m()\u001b[38;5;241m.\u001b[39msum(axis, skipna, numeric_only, min_count, \u001b[38;5;241m*\u001b[39m\u001b[38;5;241m*\u001b[39mkwargs)\n\u001b[0;32m  11671\u001b[0m     \u001b[38;5;28;01mreturn\u001b[39;00m result\u001b[38;5;241m.\u001b[39m__finalize__(\u001b[38;5;28mself\u001b[39m, method\u001b[38;5;241m=\u001b[39m\u001b[38;5;124m\"\u001b[39m\u001b[38;5;124msum\u001b[39m\u001b[38;5;124m\"\u001b[39m)\n",
      "File \u001b[1;32m~\\anaconda3\\Lib\\site-packages\\pandas\\core\\generic.py:12506\u001b[0m, in \u001b[0;36mNDFrame.sum\u001b[1;34m(self, axis, skipna, numeric_only, min_count, **kwargs)\u001b[0m\n\u001b[0;32m  12498\u001b[0m \u001b[38;5;28;01mdef\u001b[39;00m \u001b[38;5;21msum\u001b[39m(\n\u001b[0;32m  12499\u001b[0m     \u001b[38;5;28mself\u001b[39m,\n\u001b[0;32m  12500\u001b[0m     axis: Axis \u001b[38;5;241m|\u001b[39m \u001b[38;5;28;01mNone\u001b[39;00m \u001b[38;5;241m=\u001b[39m \u001b[38;5;241m0\u001b[39m,\n\u001b[1;32m   (...)\u001b[0m\n\u001b[0;32m  12504\u001b[0m     \u001b[38;5;241m*\u001b[39m\u001b[38;5;241m*\u001b[39mkwargs,\n\u001b[0;32m  12505\u001b[0m ):\n\u001b[1;32m> 12506\u001b[0m     \u001b[38;5;28;01mreturn\u001b[39;00m \u001b[38;5;28mself\u001b[39m\u001b[38;5;241m.\u001b[39m_min_count_stat_function(\n\u001b[0;32m  12507\u001b[0m         \u001b[38;5;124m\"\u001b[39m\u001b[38;5;124msum\u001b[39m\u001b[38;5;124m\"\u001b[39m, nanops\u001b[38;5;241m.\u001b[39mnansum, axis, skipna, numeric_only, min_count, \u001b[38;5;241m*\u001b[39m\u001b[38;5;241m*\u001b[39mkwargs\n\u001b[0;32m  12508\u001b[0m     )\n",
      "File \u001b[1;32m~\\anaconda3\\Lib\\site-packages\\pandas\\core\\generic.py:12471\u001b[0m, in \u001b[0;36mNDFrame._min_count_stat_function\u001b[1;34m(self, name, func, axis, skipna, numeric_only, min_count, **kwargs)\u001b[0m\n\u001b[0;32m  12459\u001b[0m \u001b[38;5;129m@final\u001b[39m\n\u001b[0;32m  12460\u001b[0m \u001b[38;5;28;01mdef\u001b[39;00m \u001b[38;5;21m_min_count_stat_function\u001b[39m(\n\u001b[0;32m  12461\u001b[0m     \u001b[38;5;28mself\u001b[39m,\n\u001b[1;32m   (...)\u001b[0m\n\u001b[0;32m  12468\u001b[0m     \u001b[38;5;241m*\u001b[39m\u001b[38;5;241m*\u001b[39mkwargs,\n\u001b[0;32m  12469\u001b[0m ):\n\u001b[0;32m  12470\u001b[0m     \u001b[38;5;28;01massert\u001b[39;00m name \u001b[38;5;129;01min\u001b[39;00m [\u001b[38;5;124m\"\u001b[39m\u001b[38;5;124msum\u001b[39m\u001b[38;5;124m\"\u001b[39m, \u001b[38;5;124m\"\u001b[39m\u001b[38;5;124mprod\u001b[39m\u001b[38;5;124m\"\u001b[39m], name\n\u001b[1;32m> 12471\u001b[0m     nv\u001b[38;5;241m.\u001b[39mvalidate_func(name, (), kwargs)\n\u001b[0;32m  12473\u001b[0m     validate_bool_kwarg(skipna, \u001b[38;5;124m\"\u001b[39m\u001b[38;5;124mskipna\u001b[39m\u001b[38;5;124m\"\u001b[39m, none_allowed\u001b[38;5;241m=\u001b[39m\u001b[38;5;28;01mFalse\u001b[39;00m)\n\u001b[0;32m  12475\u001b[0m     \u001b[38;5;28;01mif\u001b[39;00m axis \u001b[38;5;129;01mis\u001b[39;00m \u001b[38;5;28;01mNone\u001b[39;00m:\n",
      "File \u001b[1;32m~\\anaconda3\\Lib\\site-packages\\pandas\\compat\\numpy\\function.py:418\u001b[0m, in \u001b[0;36mvalidate_func\u001b[1;34m(fname, args, kwargs)\u001b[0m\n\u001b[0;32m    415\u001b[0m     \u001b[38;5;28;01mreturn\u001b[39;00m validate_stat_func(args, kwargs, fname\u001b[38;5;241m=\u001b[39mfname)\n\u001b[0;32m    417\u001b[0m validation_func \u001b[38;5;241m=\u001b[39m _validation_funcs[fname]\n\u001b[1;32m--> 418\u001b[0m \u001b[38;5;28;01mreturn\u001b[39;00m validation_func(args, kwargs)\n",
      "File \u001b[1;32m~\\anaconda3\\Lib\\site-packages\\pandas\\compat\\numpy\\function.py:88\u001b[0m, in \u001b[0;36mCompatValidator.__call__\u001b[1;34m(self, args, kwargs, fname, max_fname_arg_count, method)\u001b[0m\n\u001b[0;32m     86\u001b[0m     validate_kwargs(fname, kwargs, \u001b[38;5;28mself\u001b[39m\u001b[38;5;241m.\u001b[39mdefaults)\n\u001b[0;32m     87\u001b[0m \u001b[38;5;28;01melif\u001b[39;00m method \u001b[38;5;241m==\u001b[39m \u001b[38;5;124m\"\u001b[39m\u001b[38;5;124mboth\u001b[39m\u001b[38;5;124m\"\u001b[39m:\n\u001b[1;32m---> 88\u001b[0m     validate_args_and_kwargs(\n\u001b[0;32m     89\u001b[0m         fname, args, kwargs, max_fname_arg_count, \u001b[38;5;28mself\u001b[39m\u001b[38;5;241m.\u001b[39mdefaults\n\u001b[0;32m     90\u001b[0m     )\n\u001b[0;32m     91\u001b[0m \u001b[38;5;28;01melse\u001b[39;00m:\n\u001b[0;32m     92\u001b[0m     \u001b[38;5;28;01mraise\u001b[39;00m \u001b[38;5;167;01mValueError\u001b[39;00m(\u001b[38;5;124mf\u001b[39m\u001b[38;5;124m\"\u001b[39m\u001b[38;5;124minvalid validation method \u001b[39m\u001b[38;5;124m'\u001b[39m\u001b[38;5;132;01m{\u001b[39;00mmethod\u001b[38;5;132;01m}\u001b[39;00m\u001b[38;5;124m'\u001b[39m\u001b[38;5;124m\"\u001b[39m)\n",
      "File \u001b[1;32m~\\anaconda3\\Lib\\site-packages\\pandas\\util\\_validators.py:223\u001b[0m, in \u001b[0;36mvalidate_args_and_kwargs\u001b[1;34m(fname, args, kwargs, max_fname_arg_count, compat_args)\u001b[0m\n\u001b[0;32m    218\u001b[0m         \u001b[38;5;28;01mraise\u001b[39;00m \u001b[38;5;167;01mTypeError\u001b[39;00m(\n\u001b[0;32m    219\u001b[0m             \u001b[38;5;124mf\u001b[39m\u001b[38;5;124m\"\u001b[39m\u001b[38;5;132;01m{\u001b[39;00mfname\u001b[38;5;132;01m}\u001b[39;00m\u001b[38;5;124m() got multiple values for keyword argument \u001b[39m\u001b[38;5;124m'\u001b[39m\u001b[38;5;132;01m{\u001b[39;00mkey\u001b[38;5;132;01m}\u001b[39;00m\u001b[38;5;124m'\u001b[39m\u001b[38;5;124m\"\u001b[39m\n\u001b[0;32m    220\u001b[0m         )\n\u001b[0;32m    222\u001b[0m kwargs\u001b[38;5;241m.\u001b[39mupdate(args_dict)\n\u001b[1;32m--> 223\u001b[0m validate_kwargs(fname, kwargs, compat_args)\n",
      "File \u001b[1;32m~\\anaconda3\\Lib\\site-packages\\pandas\\util\\_validators.py:164\u001b[0m, in \u001b[0;36mvalidate_kwargs\u001b[1;34m(fname, kwargs, compat_args)\u001b[0m\n\u001b[0;32m    142\u001b[0m \u001b[38;5;250m\u001b[39m\u001b[38;5;124;03m\"\"\"\u001b[39;00m\n\u001b[0;32m    143\u001b[0m \u001b[38;5;124;03mChecks whether parameters passed to the **kwargs argument in a\u001b[39;00m\n\u001b[0;32m    144\u001b[0m \u001b[38;5;124;03mfunction `fname` are valid parameters as specified in `*compat_args`\u001b[39;00m\n\u001b[1;32m   (...)\u001b[0m\n\u001b[0;32m    161\u001b[0m \u001b[38;5;124;03mmap to the default values specified in `compat_args`\u001b[39;00m\n\u001b[0;32m    162\u001b[0m \u001b[38;5;124;03m\"\"\"\u001b[39;00m\n\u001b[0;32m    163\u001b[0m kwds \u001b[38;5;241m=\u001b[39m kwargs\u001b[38;5;241m.\u001b[39mcopy()\n\u001b[1;32m--> 164\u001b[0m _check_for_invalid_keys(fname, kwargs, compat_args)\n\u001b[0;32m    165\u001b[0m _check_for_default_values(fname, kwds, compat_args)\n",
      "File \u001b[1;32m~\\anaconda3\\Lib\\site-packages\\pandas\\util\\_validators.py:138\u001b[0m, in \u001b[0;36m_check_for_invalid_keys\u001b[1;34m(fname, kwargs, compat_args)\u001b[0m\n\u001b[0;32m    136\u001b[0m \u001b[38;5;28;01mif\u001b[39;00m diff:\n\u001b[0;32m    137\u001b[0m     bad_arg \u001b[38;5;241m=\u001b[39m \u001b[38;5;28mnext\u001b[39m(\u001b[38;5;28miter\u001b[39m(diff))\n\u001b[1;32m--> 138\u001b[0m     \u001b[38;5;28;01mraise\u001b[39;00m \u001b[38;5;167;01mTypeError\u001b[39;00m(\u001b[38;5;124mf\u001b[39m\u001b[38;5;124m\"\u001b[39m\u001b[38;5;132;01m{\u001b[39;00mfname\u001b[38;5;132;01m}\u001b[39;00m\u001b[38;5;124m() got an unexpected keyword argument \u001b[39m\u001b[38;5;124m'\u001b[39m\u001b[38;5;132;01m{\u001b[39;00mbad_arg\u001b[38;5;132;01m}\u001b[39;00m\u001b[38;5;124m'\u001b[39m\u001b[38;5;124m\"\u001b[39m)\n",
      "\u001b[1;31mTypeError\u001b[0m: sum() got an unexpected keyword argument 'level'"
     ]
    }
   ],
   "source": [
    "monthly_sales = sales_data.sum(level = 'Month')"
   ]
  },
  {
   "cell_type": "code",
   "execution_count": null,
   "id": "0c65a9a4-34c5-4141-8377-b93db6602af6",
   "metadata": {},
   "outputs": [],
   "source": []
  }
 ],
 "metadata": {
  "kernelspec": {
   "display_name": "Python 3 (ipykernel)",
   "language": "python",
   "name": "python3"
  },
  "language_info": {
   "codemirror_mode": {
    "name": "ipython",
    "version": 3
   },
   "file_extension": ".py",
   "mimetype": "text/x-python",
   "name": "python",
   "nbconvert_exporter": "python",
   "pygments_lexer": "ipython3",
   "version": "3.12.4"
  }
 },
 "nbformat": 4,
 "nbformat_minor": 5
}
