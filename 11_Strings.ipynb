{
 "cells": [
  {
   "cell_type": "markdown",
   "id": "2b5bf7f1-96f3-4bf2-9d81-7234d868ac2c",
   "metadata": {},
   "source": [
    "### What Are Vectorized String Operations?\n",
    "\n",
    "Vectorized string operations in Pandas allow you to perform string manipulations efficiently on entire columns (Series) of data. Unlike using loops, which can be cumbersome and error-prone, vectorized operations apply a function to every element of a Series at once.\n",
    "\n",
    "### Why Use Pandas for String Operations?\n",
    "\n",
    "In Python, you might use loops to manipulate strings, but this approach can be inefficient and tricky, especially when dealing with missing values. Pandas provides a more efficient and clean way to handle strings using the `str` accessor.\n",
    "\n",
    "### Basic Example of Vectorized String Operations"
   ]
  },
  {
   "cell_type": "code",
   "execution_count": 2,
   "id": "7af920fd-4aec-4870-989d-6c2b696568f3",
   "metadata": {},
   "outputs": [],
   "source": [
    "import pandas as pd\n",
    "import numpy as np"
   ]
  },
  {
   "cell_type": "code",
   "execution_count": 6,
   "id": "e5f3c703-81d1-42d6-85c8-ea54a31a1d7b",
   "metadata": {},
   "outputs": [],
   "source": [
    "data = pd.Series(['Aardra','Elzu','Celin','Jewel','Kochu'])"
   ]
  },
  {
   "cell_type": "markdown",
   "id": "8bf2091f-6b14-4e4e-8eab-1da9093d2836",
   "metadata": {},
   "source": [
    "#### Capitalizing Strings\n",
    "\n",
    "In Python, we use a loop to capitalize each name:"
   ]
  },
  {
   "cell_type": "code",
   "execution_count": 31,
   "id": "9037fefa-7aed-423e-b676-c89cd19384ab",
   "metadata": {},
   "outputs": [
    {
     "data": {
      "text/plain": [
       "['Aardra', 'Elzu', 'None', 'Celin', 'Jewel', 'Kochu']"
      ]
     },
     "execution_count": 31,
     "metadata": {},
     "output_type": "execute_result"
    }
   ],
   "source": [
    "data =['Aardra','Elzu','none','Celin','Jewel','Kochu']\n",
    "[s.capitalize() for s in data]"
   ]
  },
  {
   "cell_type": "markdown",
   "id": "2e19f830-c358-48d8-ad1e-39208415c16f",
   "metadata": {},
   "source": [
    "But this fails if there's a `None` value. \n",
    "\n",
    "Using Pandas:"
   ]
  },
  {
   "cell_type": "code",
   "execution_count": 34,
   "id": "5887345d-ebef-41f4-ad38-9c6e5a42b4ec",
   "metadata": {},
   "outputs": [],
   "source": [
    "data =pd.Series(['Aardra','Elzu','none','Celin','Jewel','Kochu'])"
   ]
  },
  {
   "cell_type": "code",
   "execution_count": 36,
   "id": "d6a4a034-feea-4165-b693-89a9cbaf72ce",
   "metadata": {},
   "outputs": [
    {
     "data": {
      "text/plain": [
       "0    Aardra\n",
       "1      Elzu\n",
       "2      None\n",
       "3     Celin\n",
       "4     Jewel\n",
       "5     Kochu\n",
       "dtype: object"
      ]
     },
     "execution_count": 36,
     "metadata": {},
     "output_type": "execute_result"
    }
   ],
   "source": [
    "data.str.capitalize()"
   ]
  },
  {
   "cell_type": "markdown",
   "id": "c771d5a8-7c3d-4127-949c-43b24e0214d6",
   "metadata": {},
   "source": [
    "### Methods similar to Python string methods\n",
    "Nearly all Python's built-in string methods are mirrored by a Pandas vectorized string method. Here is a list of Pandas ``str`` methods that mirror Python string methods:\n",
    "\n",
    "|             |                  |                  |                  |\n",
    "|-------------|------------------|------------------|------------------|\n",
    "|``len()``    | ``lower()``      | ``translate()``  | ``islower()``    | \n",
    "|``ljust()``  | ``upper()``      | ``startswith()`` | ``isupper()``    | \n",
    "|``rjust()``  | ``find()``       | ``endswith()``   | ``isnumeric()``  | \n",
    "|``center()`` | ``rfind()``      | ``isalnum()``    | ``isdecimal()``  | \n",
    "|``zfill()``  | ``index()``      | ``isalpha()``    | ``split()``      | \n",
    "|``strip()``  | ``rindex()``     | ``isdigit()``    | ``rsplit()``     | \n",
    "|``rstrip()`` | ``capitalize()`` | ``isspace()``    | ``partition()``  | \n",
    "|``lstrip()`` |  ``swapcase()``  |  ``istitle()``   | ``rpartition()`` |\n",
    "\n",
    "Notice that these have various return values. Some, like ``lower()``, return a series of strings:"
   ]
  },
  {
   "cell_type": "code",
   "execution_count": 168,
   "id": "748f2f1b-0daa-423f-9f5b-9ead20d33da4",
   "metadata": {},
   "outputs": [],
   "source": [
    "s = pd.Series(['Graham Chapman', 'John Cleese', 'Terry Gilliam',\n",
    "                   'Eric Idle', 'Terry Jones', 'Michael Palin'])"
   ]
  },
  {
   "cell_type": "code",
   "execution_count": 170,
   "id": "46095af4-b7cd-401f-8acc-81382876d761",
   "metadata": {},
   "outputs": [
    {
     "data": {
      "text/plain": [
       "0    GRAHAM CHAPMAN\n",
       "1       JOHN CLEESE\n",
       "2     TERRY GILLIAM\n",
       "3         ERIC IDLE\n",
       "4       TERRY JONES\n",
       "5     MICHAEL PALIN\n",
       "dtype: object"
      ]
     },
     "execution_count": 170,
     "metadata": {},
     "output_type": "execute_result"
    }
   ],
   "source": [
    "s.str.upper()"
   ]
  },
  {
   "cell_type": "code",
   "execution_count": 172,
   "id": "0c9073b7-8cca-4444-af86-467e1e6de02c",
   "metadata": {},
   "outputs": [
    {
     "data": {
      "text/plain": [
       "0    graham chapman\n",
       "1       john cleese\n",
       "2     terry gilliam\n",
       "3         eric idle\n",
       "4       terry jones\n",
       "5     michael palin\n",
       "dtype: object"
      ]
     },
     "execution_count": 172,
     "metadata": {},
     "output_type": "execute_result"
    }
   ],
   "source": [
    "s.str.lower()"
   ]
  },
  {
   "cell_type": "code",
   "execution_count": 174,
   "id": "cf3e8100-c213-442f-8203-8c2c9a838133",
   "metadata": {},
   "outputs": [
    {
     "data": {
      "text/plain": [
       "0    14\n",
       "1    11\n",
       "2    13\n",
       "3     9\n",
       "4    11\n",
       "5    13\n",
       "dtype: int64"
      ]
     },
     "execution_count": 174,
     "metadata": {},
     "output_type": "execute_result"
    }
   ],
   "source": [
    "s.str.len()"
   ]
  },
  {
   "cell_type": "code",
   "execution_count": 176,
   "id": "282251ae-ee6a-47a1-b2b3-3bd120862a0a",
   "metadata": {},
   "outputs": [
    {
     "data": {
      "text/plain": [
       "0    Graham Chapman \n",
       "1    John Cleese    \n",
       "2    Terry Gilliam  \n",
       "3    Eric Idle      \n",
       "4    Terry Jones    \n",
       "5    Michael Palin  \n",
       "dtype: object"
      ]
     },
     "execution_count": 176,
     "metadata": {},
     "output_type": "execute_result"
    }
   ],
   "source": [
    "s.str.ljust(15)"
   ]
  },
  {
   "cell_type": "code",
   "execution_count": 178,
   "id": "35b206a0-6656-464a-8a76-2370aec19cc5",
   "metadata": {},
   "outputs": [
    {
     "data": {
      "text/plain": [
       "0     Graham Chapman\n",
       "1        John Cleese\n",
       "2      Terry Gilliam\n",
       "3          Eric Idle\n",
       "4        Terry Jones\n",
       "5      Michael Palin\n",
       "dtype: object"
      ]
     },
     "execution_count": 178,
     "metadata": {},
     "output_type": "execute_result"
    }
   ],
   "source": [
    "s.str.rjust(15)"
   ]
  },
  {
   "cell_type": "code",
   "execution_count": 180,
   "id": "a9e7ccf0-32b8-4156-bee9-0c89747b4195",
   "metadata": {},
   "outputs": [
    {
     "data": {
      "text/plain": [
       "0    Graham Chapman\n",
       "1       John Cleese\n",
       "2     Terry Gilliam\n",
       "3        Eric Idle \n",
       "4       Terry Jones\n",
       "5     Michael Palin\n",
       "dtype: object"
      ]
     },
     "execution_count": 180,
     "metadata": {},
     "output_type": "execute_result"
    }
   ],
   "source": [
    "s.str.center(10)"
   ]
  },
  {
   "cell_type": "code",
   "execution_count": 182,
   "id": "ce77b56b-e8de-45b4-8341-9dce48ca2339",
   "metadata": {},
   "outputs": [
    {
     "data": {
      "text/plain": [
       "0    False\n",
       "1    False\n",
       "2     True\n",
       "3    False\n",
       "4     True\n",
       "5    False\n",
       "dtype: bool"
      ]
     },
     "execution_count": 182,
     "metadata": {},
     "output_type": "execute_result"
    }
   ],
   "source": [
    "s.str.startswith('T')"
   ]
  },
  {
   "cell_type": "markdown",
   "id": "c3ec27b0-fbf0-4205-b5cf-53b51cab3944",
   "metadata": {},
   "source": [
    "### Miscellaneous methods\n",
    "Finally, there are some miscellaneous methods that enable other convenient operations:\n",
    "\n",
    "| Method | Description |\n",
    "|--------|-------------|\n",
    "| ``get()`` | Index each element |\n",
    "| ``slice()`` | Slice each element|\n",
    "| ``slice_replace()`` | Replace slice in each element with passed value|\n",
    "| ``cat()``      | Concatenate strings|\n",
    "| ``repeat()`` | Repeat values |\n",
    "| ``normalize()`` | Return Unicode form of string |\n",
    "| ``pad()`` | Add whitespace to left, right, or both sides of strings|\n",
    "| ``wrap()`` | Split long strings into lines with length less than a given width|\n",
    "| ``join()`` | Join strings in each element of the Series with passed separator|\n",
    "| ``get_dummies()`` | extract dummy variables as a dataframe |"
   ]
  },
  {
   "cell_type": "markdown",
   "id": "35bf762e-c116-4e81-a058-de751edc7995",
   "metadata": {},
   "source": [
    "### 1. `get()`\n",
    "- **Description**: Retrieves a specific element from a Series or DataFrame based on its index.\n",
    "- **Example**:\n",
    " "
   ]
  },
  {
   "cell_type": "code",
   "execution_count": 184,
   "id": "0cc65011-0908-4341-8562-9be6bb601a0b",
   "metadata": {},
   "outputs": [
    {
     "name": "stdout",
     "output_type": "stream",
     "text": [
      "b\n",
      "Not Found\n"
     ]
    }
   ],
   "source": [
    "import pandas as pd\n",
    "s = pd.Series(['a', 'b', 'c'], index=[10, 20, 30])\n",
    "print(s.get(20))\n",
    "print(s.get(40, 'Not Found'))"
   ]
  },
  {
   "cell_type": "markdown",
   "id": "bd6b82e8-aea5-4c33-8f38-b6b9ba5f2bdd",
   "metadata": {},
   "source": [
    "\n",
    "### 2. `slice()`\n",
    "- **Description**: Slices each element in a Series or DataFrame.\n",
    "- **Example**:\n",
    "  \n",
    "  \n",
    " "
   ]
  },
  {
   "cell_type": "code",
   "execution_count": 106,
   "id": "309eda6a-8de0-4f32-b638-e70bf88d6614",
   "metadata": {},
   "outputs": [
    {
     "name": "stdout",
     "output_type": "stream",
     "text": [
      "0    ppl\n",
      "1    ana\n",
      "2    her\n",
      "dtype: object\n"
     ]
    }
   ],
   "source": [
    "import pandas as pd\n",
    "\n",
    "s = pd.Series(['apple', 'banana', 'cherry'])\n",
    "print(s.str.slice(1, 4))"
   ]
  },
  {
   "cell_type": "markdown",
   "id": "929fa501-df0a-4a11-bb6d-874c6b249661",
   "metadata": {},
   "source": [
    "### 3. `slice_replace()`\n",
    "- **Description**: Replaces a slice of each string in a Series with a given value.\n",
    "- **Example**:\n",
    "  \n",
    "\n"
   ]
  },
  {
   "cell_type": "code",
   "execution_count": 112,
   "id": "b6e4a5f6-bea6-4aca-aa57-39cb19e6df68",
   "metadata": {},
   "outputs": [
    {
     "name": "stdout",
     "output_type": "stream",
     "text": [
      "0     aXe\n",
      "1    bXna\n",
      "2    cXry\n",
      "dtype: object\n"
     ]
    }
   ],
   "source": [
    "import pandas as pd\n",
    "s = pd.Series(['apple', 'banana', 'cherry'])\n",
    "print(s.str.slice_replace(1, 4, 'X'))"
   ]
  },
  {
   "cell_type": "markdown",
   "id": "70260832-804a-42ba-8523-423bdbe7ce98",
   "metadata": {},
   "source": [
    "### 4. `cat()`\n",
    "- **Description**: Concatenates strings in a Series with an optional separator.\n",
    "- **Example**:\n",
    "  \n",
    "  "
   ]
  },
  {
   "cell_type": "code",
   "execution_count": 118,
   "id": "b3052474-fa3f-4edf-8b75-cd541a30c3d7",
   "metadata": {},
   "outputs": [
    {
     "name": "stdout",
     "output_type": "stream",
     "text": [
      "apple banana cherry\n"
     ]
    }
   ],
   "source": [
    "import pandas as pd\n",
    "s = pd.Series(['apple', 'banana', 'cherry'])\n",
    "print(s.str.cat(sep=' ')) "
   ]
  },
  {
   "cell_type": "markdown",
   "id": "95e8bfe8-5f04-4376-9896-3c78843f92c6",
   "metadata": {},
   "source": [
    "### 5. `repeat()`\n",
    "- **Description**: Repeats the values in a Series a specified number of times.\n",
    "- **Example**:\n",
    "  \n",
    " "
   ]
  },
  {
   "cell_type": "code",
   "execution_count": 127,
   "id": "54270274-beff-4ddc-8c2c-e69515f92fec",
   "metadata": {},
   "outputs": [
    {
     "name": "stdout",
     "output_type": "stream",
     "text": [
      "0         appleappleappleappleapple\n",
      "1    bananabananabananabananabanana\n",
      "2    cherrycherrycherrycherrycherry\n",
      "dtype: object\n"
     ]
    }
   ],
   "source": [
    "import pandas as pd\n",
    "s = pd.Series(['apple', 'banana', 'cherry'])\n",
    "print(s.str.repeat(5)) "
   ]
  },
  {
   "cell_type": "markdown",
   "id": "86938142-2dd3-4f9c-a5ea-1329bdec4a93",
   "metadata": {},
   "source": [
    "### 6. `normalize()`\n",
    "- **Description**: Returns the Unicode normalization form of each string.\n",
    "- **Example**:\n",
    "  "
   ]
  },
  {
   "cell_type": "code",
   "execution_count": 132,
   "id": "125ec0b5-9104-4595-bf20-fc4938433c72",
   "metadata": {},
   "outputs": [
    {
     "name": "stdout",
     "output_type": "stream",
     "text": [
      "0     café\n",
      "1    naïve\n",
      "dtype: object\n"
     ]
    }
   ],
   "source": [
    "import pandas as pd\n",
    "s = pd.Series(['café', 'naïve'])\n",
    "print(s.str.normalize('NFC'))"
   ]
  },
  {
   "cell_type": "markdown",
   "id": "459ebb5a-37dc-4027-8e49-161028395fbc",
   "metadata": {},
   "source": [
    "### 7. `pad()`\n",
    "- **Description**: Adds whitespace to the left, right, or both sides of strings.\n",
    "- **Example**:\n",
    " \n",
    " \n"
   ]
  },
  {
   "cell_type": "code",
   "execution_count": 137,
   "id": "1c7cad71-a3a8-47ad-b825-27b1b073de42",
   "metadata": {},
   "outputs": [
    {
     "name": "stdout",
     "output_type": "stream",
     "text": [
      "0         apple\n",
      "1        banana\n",
      "2        cherry\n",
      "dtype: object\n",
      "0      apple   \n",
      "1      banana  \n",
      "2      cherry  \n",
      "dtype: object\n"
     ]
    }
   ],
   "source": [
    "import pandas as pd\n",
    "\n",
    "s = pd.Series(['apple', 'banana', 'cherry'])\n",
    "print(s.str.pad(width=10, side='left'))  \n",
    "print(s.str.pad(width=10, side='both')) "
   ]
  },
  {
   "cell_type": "markdown",
   "id": "bf807d26-ff03-4d77-8e02-4a563f7c2f09",
   "metadata": {},
   "source": [
    "### 8. `wrap()`\n",
    "- **Description**: Wraps long strings into lines with a maximum length.\n",
    "- **Example**:\n",
    "  "
   ]
  },
  {
   "cell_type": "code",
   "execution_count": 141,
   "id": "15dcea57-4f06-4ed1-a2aa-54437f7ed353",
   "metadata": {},
   "outputs": [
    {
     "name": "stdout",
     "output_type": "stream",
     "text": [
      "0    This is a very long\\nstring that needs to\\nbe ...\n",
      "dtype: object\n"
     ]
    }
   ],
   "source": [
    "import pandas as pd\n",
    "s = pd.Series(['This is a very long string that needs to be wrapped.'])\n",
    "print(s.str.wrap(width=20))"
   ]
  },
  {
   "cell_type": "markdown",
   "id": "f960eaaa-46b1-4555-ba89-f7b95ecb6983",
   "metadata": {},
   "source": [
    "### 9. `join()`\n",
    "- **Description**: Joins the elements of a Series with a specified separator.\n",
    "- **Example**:\n",
    " \n",
    " "
   ]
  },
  {
   "cell_type": "code",
   "execution_count": 143,
   "id": "0d6b1b40-6e96-4fd7-966b-f6a781d2c110",
   "metadata": {},
   "outputs": [
    {
     "name": "stdout",
     "output_type": "stream",
     "text": [
      "0      a-p-p-l-e\n",
      "1    b-a-n-a-n-a\n",
      "2    c-h-e-r-r-y\n",
      "dtype: object\n"
     ]
    }
   ],
   "source": [
    "import pandas as pd\n",
    "s = pd.Series(['apple', 'banana', 'cherry'])\n",
    "print(s.str.join('-')) "
   ]
  },
  {
   "cell_type": "markdown",
   "id": "0009ecd2-c093-489f-bd11-d2283519ea1b",
   "metadata": {},
   "source": [
    "### 10. `get_dummies()`\n",
    "- **Description**: Converts categorical variable into dummy/indicator variables.\n",
    "- **Example**:\n",
    " "
   ]
  },
  {
   "cell_type": "code",
   "execution_count": 152,
   "id": "5ec674d8-3a29-4bb6-91b4-637c2f72bd08",
   "metadata": {},
   "outputs": [
    {
     "name": "stdout",
     "output_type": "stream",
     "text": [
      "   color_blue  color_green  color_red\n",
      "0       False        False       True\n",
      "1        True        False      False\n",
      "2       False         True      False\n"
     ]
    }
   ],
   "source": [
    "import pandas as pd\n",
    "df = pd.DataFrame({'color': ['red', 'blue', 'green']})\n",
    "print(pd.get_dummies(df, columns=['color']))"
   ]
  },
  {
   "cell_type": "code",
   "execution_count": 156,
   "id": "713bfcb8-adfb-40b6-ad76-fab861d64834",
   "metadata": {},
   "outputs": [
    {
     "data": {
      "text/html": [
       "<div>\n",
       "<style scoped>\n",
       "    .dataframe tbody tr th:only-of-type {\n",
       "        vertical-align: middle;\n",
       "    }\n",
       "\n",
       "    .dataframe tbody tr th {\n",
       "        vertical-align: top;\n",
       "    }\n",
       "\n",
       "    .dataframe thead th {\n",
       "        text-align: right;\n",
       "    }\n",
       "</style>\n",
       "<table border=\"1\" class=\"dataframe\">\n",
       "  <thead>\n",
       "    <tr style=\"text-align: right;\">\n",
       "      <th></th>\n",
       "      <th>name</th>\n",
       "      <th>info</th>\n",
       "    </tr>\n",
       "  </thead>\n",
       "  <tbody>\n",
       "    <tr>\n",
       "      <th>0</th>\n",
       "      <td>Graham Chapman</td>\n",
       "      <td>B|C|D</td>\n",
       "    </tr>\n",
       "    <tr>\n",
       "      <th>1</th>\n",
       "      <td>John Cleese</td>\n",
       "      <td>B|D</td>\n",
       "    </tr>\n",
       "    <tr>\n",
       "      <th>2</th>\n",
       "      <td>Terry Gilliam</td>\n",
       "      <td>A|C</td>\n",
       "    </tr>\n",
       "    <tr>\n",
       "      <th>3</th>\n",
       "      <td>Eric Idle</td>\n",
       "      <td>B|D</td>\n",
       "    </tr>\n",
       "    <tr>\n",
       "      <th>4</th>\n",
       "      <td>Terry Jones</td>\n",
       "      <td>B|C</td>\n",
       "    </tr>\n",
       "    <tr>\n",
       "      <th>5</th>\n",
       "      <td>Michael Palin</td>\n",
       "      <td>B|C|D</td>\n",
       "    </tr>\n",
       "  </tbody>\n",
       "</table>\n",
       "</div>"
      ],
      "text/plain": [
       "             name   info\n",
       "0  Graham Chapman  B|C|D\n",
       "1     John Cleese    B|D\n",
       "2   Terry Gilliam    A|C\n",
       "3       Eric Idle    B|D\n",
       "4     Terry Jones    B|C\n",
       "5   Michael Palin  B|C|D"
      ]
     },
     "execution_count": 156,
     "metadata": {},
     "output_type": "execute_result"
    }
   ],
   "source": [
    "full_monte = pd.DataFrame({'name': monte,\n",
    "                           'info': ['B|C|D', 'B|D', 'A|C',\n",
    "                                    'B|D', 'B|C', 'B|C|D']})\n",
    "full_monte"
   ]
  },
  {
   "cell_type": "code",
   "execution_count": 158,
   "id": "78769c5c-d850-425e-8b8d-973d616ab79a",
   "metadata": {},
   "outputs": [
    {
     "data": {
      "text/html": [
       "<div>\n",
       "<style scoped>\n",
       "    .dataframe tbody tr th:only-of-type {\n",
       "        vertical-align: middle;\n",
       "    }\n",
       "\n",
       "    .dataframe tbody tr th {\n",
       "        vertical-align: top;\n",
       "    }\n",
       "\n",
       "    .dataframe thead th {\n",
       "        text-align: right;\n",
       "    }\n",
       "</style>\n",
       "<table border=\"1\" class=\"dataframe\">\n",
       "  <thead>\n",
       "    <tr style=\"text-align: right;\">\n",
       "      <th></th>\n",
       "      <th>A</th>\n",
       "      <th>B</th>\n",
       "      <th>C</th>\n",
       "      <th>D</th>\n",
       "    </tr>\n",
       "  </thead>\n",
       "  <tbody>\n",
       "    <tr>\n",
       "      <th>0</th>\n",
       "      <td>0</td>\n",
       "      <td>1</td>\n",
       "      <td>1</td>\n",
       "      <td>1</td>\n",
       "    </tr>\n",
       "    <tr>\n",
       "      <th>1</th>\n",
       "      <td>0</td>\n",
       "      <td>1</td>\n",
       "      <td>0</td>\n",
       "      <td>1</td>\n",
       "    </tr>\n",
       "    <tr>\n",
       "      <th>2</th>\n",
       "      <td>1</td>\n",
       "      <td>0</td>\n",
       "      <td>1</td>\n",
       "      <td>0</td>\n",
       "    </tr>\n",
       "    <tr>\n",
       "      <th>3</th>\n",
       "      <td>0</td>\n",
       "      <td>1</td>\n",
       "      <td>0</td>\n",
       "      <td>1</td>\n",
       "    </tr>\n",
       "    <tr>\n",
       "      <th>4</th>\n",
       "      <td>0</td>\n",
       "      <td>1</td>\n",
       "      <td>1</td>\n",
       "      <td>0</td>\n",
       "    </tr>\n",
       "    <tr>\n",
       "      <th>5</th>\n",
       "      <td>0</td>\n",
       "      <td>1</td>\n",
       "      <td>1</td>\n",
       "      <td>1</td>\n",
       "    </tr>\n",
       "  </tbody>\n",
       "</table>\n",
       "</div>"
      ],
      "text/plain": [
       "   A  B  C  D\n",
       "0  0  1  1  1\n",
       "1  0  1  0  1\n",
       "2  1  0  1  0\n",
       "3  0  1  0  1\n",
       "4  0  1  1  0\n",
       "5  0  1  1  1"
      ]
     },
     "execution_count": 158,
     "metadata": {},
     "output_type": "execute_result"
    }
   ],
   "source": [
    "full_monte['info'].str.get_dummies('|')"
   ]
  },
  {
   "cell_type": "code",
   "execution_count": 166,
   "id": "0ff43d6f-9b00-461a-9334-646cd3ea536b",
   "metadata": {},
   "outputs": [
    {
     "data": {
      "text/html": [
       "<div>\n",
       "<style scoped>\n",
       "    .dataframe tbody tr th:only-of-type {\n",
       "        vertical-align: middle;\n",
       "    }\n",
       "\n",
       "    .dataframe tbody tr th {\n",
       "        vertical-align: top;\n",
       "    }\n",
       "\n",
       "    .dataframe thead th {\n",
       "        text-align: right;\n",
       "    }\n",
       "</style>\n",
       "<table border=\"1\" class=\"dataframe\">\n",
       "  <thead>\n",
       "    <tr style=\"text-align: right;\">\n",
       "      <th></th>\n",
       "      <th>Apple</th>\n",
       "      <th>Kiwi</th>\n",
       "      <th>Orange</th>\n",
       "    </tr>\n",
       "  </thead>\n",
       "  <tbody>\n",
       "    <tr>\n",
       "      <th>0</th>\n",
       "      <td>1</td>\n",
       "      <td>0</td>\n",
       "      <td>0</td>\n",
       "    </tr>\n",
       "    <tr>\n",
       "      <th>1</th>\n",
       "      <td>0</td>\n",
       "      <td>0</td>\n",
       "      <td>1</td>\n",
       "    </tr>\n",
       "    <tr>\n",
       "      <th>2</th>\n",
       "      <td>0</td>\n",
       "      <td>1</td>\n",
       "      <td>0</td>\n",
       "    </tr>\n",
       "  </tbody>\n",
       "</table>\n",
       "</div>"
      ],
      "text/plain": [
       "   Apple  Kiwi  Orange\n",
       "0      1     0       0\n",
       "1      0     0       1\n",
       "2      0     1       0"
      ]
     },
     "execution_count": 166,
     "metadata": {},
     "output_type": "execute_result"
    }
   ],
   "source": [
    "data = pd.Series(['Apple','Orange','Kiwi'])\n",
    "data.str.get_dummies()"
   ]
  }
 ],
 "metadata": {
  "kernelspec": {
   "display_name": "Python 3 (ipykernel)",
   "language": "python",
   "name": "python3"
  },
  "language_info": {
   "codemirror_mode": {
    "name": "ipython",
    "version": 3
   },
   "file_extension": ".py",
   "mimetype": "text/x-python",
   "name": "python",
   "nbconvert_exporter": "python",
   "pygments_lexer": "ipython3",
   "version": "3.12.4"
  }
 },
 "nbformat": 4,
 "nbformat_minor": 5
}
