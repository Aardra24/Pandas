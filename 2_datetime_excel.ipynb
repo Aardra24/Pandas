{
 "cells": [
  {
   "cell_type": "code",
   "execution_count": 17,
   "id": "082676cf-3310-40c4-8ada-e9f894595e47",
   "metadata": {},
   "outputs": [],
   "source": [
    "import pandas as pd\n",
    "df = pd.read_csv(\"C:\\\\Users\\\\aardr\\\\Downloads\\\\Vessel_1_Report_Data.csv\")"
   ]
  },
  {
   "cell_type": "code",
   "execution_count": 19,
   "id": "8f7b478e-e096-47c1-b8ac-272323f4c960",
   "metadata": {},
   "outputs": [
    {
     "data": {
      "text/html": [
       "<div>\n",
       "<style scoped>\n",
       "    .dataframe tbody tr th:only-of-type {\n",
       "        vertical-align: middle;\n",
       "    }\n",
       "\n",
       "    .dataframe tbody tr th {\n",
       "        vertical-align: top;\n",
       "    }\n",
       "\n",
       "    .dataframe thead th {\n",
       "        text-align: right;\n",
       "    }\n",
       "</style>\n",
       "<table border=\"1\" class=\"dataframe\">\n",
       "  <thead>\n",
       "    <tr style=\"text-align: right;\">\n",
       "      <th></th>\n",
       "      <th>report_date_time</th>\n",
       "      <th>report_date_time_2</th>\n",
       "    </tr>\n",
       "  </thead>\n",
       "  <tbody>\n",
       "    <tr>\n",
       "      <th>0</th>\n",
       "      <td>02-01-2018 19:48</td>\n",
       "      <td>02-01-2018 19:48</td>\n",
       "    </tr>\n",
       "    <tr>\n",
       "      <th>1</th>\n",
       "      <td>14-02-2018 12:00</td>\n",
       "      <td>14-02-2018 12:00</td>\n",
       "    </tr>\n",
       "    <tr>\n",
       "      <th>2</th>\n",
       "      <td>22-03-2018 14:30</td>\n",
       "      <td>22-03-2018 14:30</td>\n",
       "    </tr>\n",
       "    <tr>\n",
       "      <th>3</th>\n",
       "      <td>16-05-2018 21:30</td>\n",
       "      <td>16-05-2018 21:30</td>\n",
       "    </tr>\n",
       "    <tr>\n",
       "      <th>4</th>\n",
       "      <td>13-12-2018 12:00</td>\n",
       "      <td>13-12-2018 12:00</td>\n",
       "    </tr>\n",
       "  </tbody>\n",
       "</table>\n",
       "</div>"
      ],
      "text/plain": [
       "   report_date_time report_date_time_2\n",
       "0  02-01-2018 19:48   02-01-2018 19:48\n",
       "1  14-02-2018 12:00   14-02-2018 12:00\n",
       "2  22-03-2018 14:30   22-03-2018 14:30\n",
       "3  16-05-2018 21:30   16-05-2018 21:30\n",
       "4  13-12-2018 12:00   13-12-2018 12:00"
      ]
     },
     "execution_count": 19,
     "metadata": {},
     "output_type": "execute_result"
    }
   ],
   "source": [
    "df.head()"
   ]
  },
  {
   "cell_type": "code",
   "execution_count": null,
   "id": "71067670-5b27-4a52-b51e-f8cc290d6671",
   "metadata": {},
   "outputs": [],
   "source": [
    "for i in df['report_date_time_2']:\n",
    "    print(i)\n",
    "    if df['report_date_time_2'].index = 0:\n",
    "    print(i+1) i have a dataframe df['report_date_time_2'] "
   ]
  },
  {
   "cell_type": "code",
   "execution_count": 54,
   "id": "ceb67c2f-8d03-42cf-9198-a83ad9f4a0ef",
   "metadata": {},
   "outputs": [
    {
     "name": "stdout",
     "output_type": "stream",
     "text": [
      "Indexes with format '%A-%m-%d-%Y %H:%M': []\n"
     ]
    }
   ],
   "source": [
    "# Define the date formats\n",
    "format1 = '%A-%m-%d-%Y %H:%M'\n",
    "format2 = '%d-%m-%Y %H:%M'\n",
    "\n",
    "# Find the indexes with the specific format\n",
    "indexes_format1 = []\n",
    "\n",
    "for idx, date_str in enumerate(df['report_date_time_2']):\n",
    "    try:\n",
    "        # Try to parse with format1\n",
    "        pd.to_datetime(date_str, format=format1)\n",
    "        indexes_format1.append(idx)\n",
    "    except ValueError:\n",
    "        # If it fails, it's not format1\n",
    "        continue\n",
    "\n",
    "print(\"Indexes with format '%A-%m-%d-%Y %H:%M':\", indexes_format1)\n"
   ]
  },
  {
   "cell_type": "code",
   "execution_count": 3,
   "id": "33ec211b-c595-4af0-8afc-b416c981405e",
   "metadata": {},
   "outputs": [],
   "source": [
    "df['report_date_time'] = pd.to_datetime(df['report_date_time'], format='%d-%m-%Y %H:%M')"
   ]
  },
  {
   "cell_type": "code",
   "execution_count": 7,
   "id": "35a52df4-6064-4ea3-a55b-bdafbc8f876b",
   "metadata": {},
   "outputs": [
    {
     "data": {
      "text/html": [
       "<div>\n",
       "<style scoped>\n",
       "    .dataframe tbody tr th:only-of-type {\n",
       "        vertical-align: middle;\n",
       "    }\n",
       "\n",
       "    .dataframe tbody tr th {\n",
       "        vertical-align: top;\n",
       "    }\n",
       "\n",
       "    .dataframe thead th {\n",
       "        text-align: right;\n",
       "    }\n",
       "</style>\n",
       "<table border=\"1\" class=\"dataframe\">\n",
       "  <thead>\n",
       "    <tr style=\"text-align: right;\">\n",
       "      <th></th>\n",
       "      <th>report_date_time</th>\n",
       "      <th>report_date_time_2</th>\n",
       "      <th>formatted_date</th>\n",
       "    </tr>\n",
       "  </thead>\n",
       "  <tbody>\n",
       "    <tr>\n",
       "      <th>0</th>\n",
       "      <td>2018-01-02 19:48:00</td>\n",
       "      <td>02-01-2018 19:48</td>\n",
       "      <td>02-Jan-2018</td>\n",
       "    </tr>\n",
       "    <tr>\n",
       "      <th>1</th>\n",
       "      <td>2018-02-14 12:00:00</td>\n",
       "      <td>14-02-2018 12:00</td>\n",
       "      <td>14-Feb-2018</td>\n",
       "    </tr>\n",
       "    <tr>\n",
       "      <th>2</th>\n",
       "      <td>2018-03-22 14:30:00</td>\n",
       "      <td>22-03-2018 14:30</td>\n",
       "      <td>22-Mar-2018</td>\n",
       "    </tr>\n",
       "    <tr>\n",
       "      <th>3</th>\n",
       "      <td>2018-05-16 21:30:00</td>\n",
       "      <td>16-05-2018 21:30</td>\n",
       "      <td>16-May-2018</td>\n",
       "    </tr>\n",
       "    <tr>\n",
       "      <th>4</th>\n",
       "      <td>2018-12-13 12:00:00</td>\n",
       "      <td>13-12-2018 12:00</td>\n",
       "      <td>13-Dec-2018</td>\n",
       "    </tr>\n",
       "  </tbody>\n",
       "</table>\n",
       "</div>"
      ],
      "text/plain": [
       "     report_date_time report_date_time_2 formatted_date\n",
       "0 2018-01-02 19:48:00   02-01-2018 19:48    02-Jan-2018\n",
       "1 2018-02-14 12:00:00   14-02-2018 12:00    14-Feb-2018\n",
       "2 2018-03-22 14:30:00   22-03-2018 14:30    22-Mar-2018\n",
       "3 2018-05-16 21:30:00   16-05-2018 21:30    16-May-2018\n",
       "4 2018-12-13 12:00:00   13-12-2018 12:00    13-Dec-2018"
      ]
     },
     "execution_count": 7,
     "metadata": {},
     "output_type": "execute_result"
    }
   ],
   "source": [
    "df['formatted_date'] = df['report_date_time'].dt.strftime('%d-%b-%Y')\n",
    "df.head()"
   ]
  },
  {
   "cell_type": "code",
   "execution_count": 9,
   "id": "902d449c-3cd8-4fa1-ba99-feee75c978a8",
   "metadata": {},
   "outputs": [
    {
     "name": "stdout",
     "output_type": "stream",
     "text": [
      "Rows with errors:\n",
      "        report_date_time report_date_time_2 formatted_date\n",
      "109  2022-03-14 09:48:00               None    14-Mar-2022\n",
      "242  2023-02-11 04:00:00               None    11-Feb-2023\n",
      "5716 2020-03-12 12:00:00               None    12-Mar-2020\n",
      "6251 2020-12-29 12:00:00               None    29-Dec-2020\n"
     ]
    }
   ],
   "source": [
    "formats = ['%A-%m-%d-%Y %H:%M', '%d-%m-%Y %H:%M']\n",
    "\n",
    "def parse_and_format_date(date_str):\n",
    "    for fmt in formats:\n",
    "        try:\n",
    "            dt = pd.to_datetime(date_str, format=fmt)\n",
    "            return dt.strftime('%Y-%m-%d %H:%M:%S')\n",
    "        except ValueError:\n",
    "            continue\n",
    "    return None\n",
    "\n",
    "df['report_date_time_2'] = df['report_date_time_2'].apply(parse_and_format_date)\n",
    "\n",
    "error_rows = df[df['report_date_time_2'].isna()]\n",
    "\n",
    "print(\"Rows with errors:\")\n",
    "print(error_rows)\n",
    "\n",
    "df.to_csv('Aardra_2.csv', index=False)"
   ]
  },
  {
   "cell_type": "code",
   "execution_count": 15,
   "id": "56f6482a-c017-4f1e-992c-c4196d96ed65",
   "metadata": {},
   "outputs": [],
   "source": [
    "df['report_date_time_2'].loc[109]"
   ]
  },
  {
   "cell_type": "code",
   "execution_count": 37,
   "id": "694953e8-53ea-4a82-b280-df4e2e594d5e",
   "metadata": {},
   "outputs": [
    {
     "name": "stdout",
     "output_type": "stream",
     "text": [
      "1900 is not a leap year.\n"
     ]
    }
   ],
   "source": [
    "def is_leap_year(year):\n",
    "    \n",
    "    if (year % 4 == 0 and year % 100 != 0) or (year % 400 == 0):\n",
    "        return True\n",
    "    else:\n",
    "        return False\n",
    "\n",
    "year = 1900\n",
    "if is_leap_year(year):\n",
    "    print(f\"{year} is a leap year.\")\n",
    "else:\n",
    "    print(f\"{year} is not a leap year.\")\n"
   ]
  },
  {
   "cell_type": "code",
   "execution_count": null,
   "id": "93801ca9-c409-4bbf-8f1f-0aa0787318ab",
   "metadata": {},
   "outputs": [],
   "source": []
  }
 ],
 "metadata": {
  "kernelspec": {
   "display_name": "Python 3 (ipykernel)",
   "language": "python",
   "name": "python3"
  },
  "language_info": {
   "codemirror_mode": {
    "name": "ipython",
    "version": 3
   },
   "file_extension": ".py",
   "mimetype": "text/x-python",
   "name": "python",
   "nbconvert_exporter": "python",
   "pygments_lexer": "ipython3",
   "version": "3.12.4"
  }
 },
 "nbformat": 4,
 "nbformat_minor": 5
}
