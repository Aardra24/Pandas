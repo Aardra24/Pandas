{
 "cells": [
  {
   "cell_type": "markdown",
   "id": "1a35ce52-8708-4e47-ab38-ddc4a9b08c6d",
   "metadata": {},
   "source": [
    "## Pandas\n",
    "\n",
    "Pandas is a Python library used for working with data sets.It has functions for `analyzing, cleaning, exploring, and manipulating data`.The name \"Pandas\" has a reference to both `\"Panel Data\"`, and `Python Data Analysis` and was created by `Wes McKinney in 2008.`"
   ]
  },
  {
   "cell_type": "markdown",
   "id": "8b58aa00-4139-4c87-bacd-be9f05cc396d",
   "metadata": {},
   "source": [
    "**Import Pandas**\n",
    "  \n",
    "Once Pandas is installed, import it in your applications by adding the import keyword:"
   ]
  },
  {
   "cell_type": "code",
   "execution_count": 5,
   "id": "c1481475-e4fb-4e91-bdc1-710495db9f57",
   "metadata": {},
   "outputs": [],
   "source": [
    "import pandas"
   ]
  },
  {
   "cell_type": "markdown",
   "id": "fbe64a4b-013f-4c8f-8036-4f368737c8af",
   "metadata": {},
   "source": [
    "Pandas as pd\n",
    "\n",
    "Pandas is usually imported under the pd alias."
   ]
  },
  {
   "cell_type": "code",
   "execution_count": 10,
   "id": "36496fdc-2954-4ae3-aaeb-67ba58587682",
   "metadata": {},
   "outputs": [],
   "source": [
    "import pandas as pd"
   ]
  },
  {
   "cell_type": "code",
   "execution_count": 34,
   "id": "88844ecf-a2a0-4ee1-8d6f-e52646e2f870",
   "metadata": {},
   "outputs": [
    {
     "data": {
      "text/html": [
       "<div>\n",
       "<style scoped>\n",
       "    .dataframe tbody tr th:only-of-type {\n",
       "        vertical-align: middle;\n",
       "    }\n",
       "\n",
       "    .dataframe tbody tr th {\n",
       "        vertical-align: top;\n",
       "    }\n",
       "\n",
       "    .dataframe thead th {\n",
       "        text-align: right;\n",
       "    }\n",
       "</style>\n",
       "<table border=\"1\" class=\"dataframe\">\n",
       "  <thead>\n",
       "    <tr style=\"text-align: right;\">\n",
       "      <th></th>\n",
       "      <th>cars</th>\n",
       "      <th>count</th>\n",
       "    </tr>\n",
       "  </thead>\n",
       "  <tbody>\n",
       "    <tr>\n",
       "      <th>0</th>\n",
       "      <td>BMW</td>\n",
       "      <td>5</td>\n",
       "    </tr>\n",
       "    <tr>\n",
       "      <th>1</th>\n",
       "      <td>Mini Cooper</td>\n",
       "      <td>6</td>\n",
       "    </tr>\n",
       "    <tr>\n",
       "      <th>2</th>\n",
       "      <td>Benz</td>\n",
       "      <td>2</td>\n",
       "    </tr>\n",
       "  </tbody>\n",
       "</table>\n",
       "</div>"
      ],
      "text/plain": [
       "          cars count\n",
       "0          BMW     5\n",
       "1  Mini Cooper     6\n",
       "2         Benz     2"
      ]
     },
     "execution_count": 34,
     "metadata": {},
     "output_type": "execute_result"
    }
   ],
   "source": [
    "data= {\n",
    "    'cars':[\"BMW\",\"Mini Cooper\",\"Benz\"],\n",
    "    'count':[\"5\",\"6\",\"2\"]\n",
    "}\n",
    "pd.DataFrame(data)"
   ]
  },
  {
   "cell_type": "markdown",
   "id": "ab42edbb-4e40-424a-a06a-25f4c69ca6b4",
   "metadata": {},
   "source": [
    "## Checking Pandas Version\n",
    "\n",
    "The version string is stored under __version__ attribute."
   ]
  },
  {
   "cell_type": "code",
   "execution_count": 25,
   "id": "6bbdff87-4682-4fea-a19a-68df6720c3b3",
   "metadata": {},
   "outputs": [
    {
     "data": {
      "text/plain": [
       "'2.2.2'"
      ]
     },
     "execution_count": 25,
     "metadata": {},
     "output_type": "execute_result"
    }
   ],
   "source": [
    "pd.__version__"
   ]
  }
 ],
 "metadata": {
  "kernelspec": {
   "display_name": "Python 3 (ipykernel)",
   "language": "python",
   "name": "python3"
  },
  "language_info": {
   "codemirror_mode": {
    "name": "ipython",
    "version": 3
   },
   "file_extension": ".py",
   "mimetype": "text/x-python",
   "name": "python",
   "nbconvert_exporter": "python",
   "pygments_lexer": "ipython3",
   "version": "3.12.4"
  }
 },
 "nbformat": 4,
 "nbformat_minor": 5
}
